{
 "cells": [
  {
   "cell_type": "markdown",
   "id": "dc906a1f-5fdc-4f0b-a125-11c2a7c902fb",
   "metadata": {
    "tags": []
   },
   "source": [
    "# Import"
   ]
  },
  {
   "cell_type": "code",
   "execution_count": 1,
   "id": "b505990f-a390-49b1-8420-d3c7c500666b",
   "metadata": {},
   "outputs": [],
   "source": [
    "import json\n",
    "import os\n",
    "import shutil\n",
    "from tqdm import tqdm\n",
    "from glob import glob"
   ]
  },
  {
   "cell_type": "markdown",
   "id": "ded810e8-e29a-4908-96e8-e28ee8ba9b13",
   "metadata": {},
   "source": [
    "# convert func"
   ]
  },
  {
   "cell_type": "code",
   "execution_count": 2,
   "id": "9a939635-3c73-4df0-8b77-640f483aab61",
   "metadata": {},
   "outputs": [],
   "source": [
    "def convert(img_paths, label_paths, yolo_path, met, txt):\n",
    "    for img_path in tqdm(img_paths):\n",
    "        filename = os.path.basename(img_path).split('.')[0]\n",
    "        label_file = f'{label_paths}/{filename}.json'\n",
    "        yolo = open(f'{yolo_path}/{filename}.txt','w')\n",
    "        \n",
    "        with open(label_file,'r') as f:\n",
    "            json_data = json.load(f)\n",
    "        \n",
    "        height = json_data[\"images\"][0][\"height\"]\n",
    "        width = json_data[\"images\"][0][\"width\"]\n",
    "        for obj in json_data[\"annotations\"]:\n",
    "            x = obj[\"bbox\"][0]\n",
    "            y = obj[\"bbox\"][1]\n",
    "            w = obj[\"bbox\"][2]\n",
    "            h = obj[\"bbox\"][3]\n",
    "            \n",
    "            x = (x + (x+w)) / 2 / width;\n",
    "            y = (y + (y+h)) / 2 / height;\n",
    "            shape_width = w / width;\n",
    "            shape_height = h / height;\n",
    "            yolo.write(f'{met} {x:.6f} {y:.6f} {shape_width:.6f} {shape_height:.6f}\\n')\n",
    "        \n",
    "        shutil.copyfile(img_path,f\"{yolo_path}/{os.path.basename(img_path)}\")\n",
    "        \n",
    "        with open(txt,'a') as f:\n",
    "            kind = os.path.basename(txt).split('.')[0]\n",
    "            f.write(f'/rup/data/AIHub/{kind}/{os.path.basename(img_path)}\\n')\n",
    "            \n",
    "        yolo.close()"
   ]
  },
  {
   "cell_type": "markdown",
   "id": "7d32ca0d-d131-48f2-a918-e98eb8d90e19",
   "metadata": {
    "tags": []
   },
   "source": [
    "# Create Folder"
   ]
  },
  {
   "cell_type": "code",
   "execution_count": 3,
   "id": "7c9462cc-a6c2-4cdc-ba92-29a7c4f99316",
   "metadata": {},
   "outputs": [
    {
     "name": "stdout",
     "output_type": "stream",
     "text": [
      "remove /home/jovyan/work/yolo\n"
     ]
    }
   ],
   "source": [
    "if not os.path.exists(\"/home/jovyan/work/yolo\"):\n",
    "    os.makedirs(\"/home/jovyan/work/yolo\")\n",
    "else:\n",
    "    print(\"remove /home/jovyan/work/yolo\")\n",
    "    shutil.rmtree(\"/home/jovyan/work/yolo\")\n",
    "    os.makedirs(\"/home/jovyan/work/yolo\")\n",
    "\n",
    "if not os.path.exists(\"/home/jovyan/work/yolo/train\"):\n",
    "    os.makedirs(\"/home/jovyan/work/yolo/train\")\n",
    "else:\n",
    "    print(\"remove /home/jovyan/work/yolo/train\")\n",
    "    shutil.rmtree(\"/home/jovyan/work/yolo/train\")\n",
    "    os.makedirs(\"/home/jovyan/work/yolo/train\")\n",
    "\n",
    "if not os.path.exists(\"/home/jovyan/work/yolo/test\"):\n",
    "    os.makedirs(\"/home/jovyan/work/yolo/test\")\n",
    "else:\n",
    "    print(\"remove /home/jovyan/work/yolo/test\")\n",
    "    shutil.rmtree(\"/home/jovyan/work/yolo/test\")\n",
    "    os.makedirs(\"/home/jovyan/work/yolo/test\")\n",
    "\n",
    "if os.path.exists(\"/home/jovyan/work/yolo/train.txt\"):\n",
    "    print(\"remove /home/jovyan/work/yolo/train.txt\")\n",
    "    os.remove(\"/home/jovyan/work/yolo/train.txt\")\n",
    "\n",
    "if os.path.exists(\"/home/jovyan/work/yolo/test.txt\"):\n",
    "    print(\"remove /home/jovyan/work/yolo/test.txt\")\n",
    "    os.remove(\"/home/jovyan/work/yolo/test.txt\")\n",
    "\n",
    "!touch /home/jovyan/work/yolo/train.txt\n",
    "!touch /home/jovyan/work/yolo/test.txt"
   ]
  },
  {
   "cell_type": "markdown",
   "id": "aae0d545-376b-4dbe-b567-54d5afb87378",
   "metadata": {
    "tags": []
   },
   "source": [
    "# File Load"
   ]
  },
  {
   "cell_type": "code",
   "execution_count": 4,
   "id": "cce5795d-1a06-4a7a-92be-f80068d5326c",
   "metadata": {},
   "outputs": [
    {
     "name": "stdout",
     "output_type": "stream",
     "text": [
      "-------train dataset------\n",
      "pet img : 186723\n",
      "pp img : 123687\n",
      "ps img : 83063\n",
      "--------------------------\n",
      "pet label : 186723\n",
      "pp label : 123687\n",
      "ps label : 83063\n",
      "-------test dataset------\n",
      "pet img : 23341\n",
      "pp img : 15461\n",
      "ps img : 10383\n",
      "--------------------------\n",
      "pet label : 23341\n",
      "pp label : 15461\n",
      "ps label : 10383\n"
     ]
    }
   ],
   "source": [
    "train_img_path = \"/home/jovyan/work/Training/원천데이터\"\n",
    "train_label_path = \"/home/jovyan/work/Training/라벨링데이터\"\n",
    "\n",
    "test_img_path = \"/home/jovyan/work/Validation/원천데이터\"\n",
    "test_label_path = \"/home/jovyan/work/Validation/라벨링데이터\"\n",
    "\n",
    "yolo_path = \"/home/jovyan/work/yolo\"\n",
    "\n",
    "yolo_train_path = yolo_path+\"/train\"\n",
    "yolo_test_path = yolo_path+\"/test\"\n",
    "\n",
    "train_img_pet_path = train_img_path+\"/pet\"\n",
    "train_img_pp_path = train_img_path+\"/pp\"\n",
    "train_img_ps_path = train_img_path+\"/ps\"\n",
    "\n",
    "train_label_pet_path = train_label_path+\"/pet\"\n",
    "train_label_pp_path = train_label_path+\"/pp\"\n",
    "train_label_ps_path = train_label_path+\"/ps\"\n",
    "\n",
    "train_img_pet = glob(train_img_pet_path+'/*.jpg')\n",
    "train_img_pp = glob(train_img_pp_path+'/*.jpg')\n",
    "train_img_ps = glob(train_img_ps_path+'/*.jpg')\n",
    "\n",
    "train_label_pet = glob(train_label_pet_path+'/*.json')\n",
    "train_label_pp = glob(train_label_pp_path+'/*.json')\n",
    "train_label_ps = glob(train_label_ps_path+'/*.json')\n",
    "\n",
    "test_img_pet_path = test_img_path+\"/pet\"\n",
    "test_img_pp_path = test_img_path+\"/pp\"\n",
    "test_img_ps_path = test_img_path+\"/ps\"\n",
    "\n",
    "test_label_pet_path = test_label_path+\"/pet\"\n",
    "test_label_pp_path = test_label_path+\"/pp\"\n",
    "test_label_ps_path = test_label_path+\"/ps\"\n",
    "\n",
    "test_img_pet = glob(test_img_pet_path+'/*.jpg')\n",
    "test_img_pp = glob(test_img_pp_path+'/*.jpg')\n",
    "test_img_ps = glob(test_img_ps_path+'/*.jpg')\n",
    "\n",
    "test_label_pet = glob(test_label_pet_path+'/*.json')\n",
    "test_label_pp = glob(test_label_pp_path+'/*.json')\n",
    "test_label_ps = glob(test_label_ps_path+'/*.json')\n",
    "\n",
    "train_txt = '/home/jovyan/work/yolo/train.txt'\n",
    "test_txt = '/home/jovyan/work/yolo/test.txt'\n",
    "\n",
    "print('-------train dataset------')\n",
    "print('pet img : '+str(len(train_img_pet)))\n",
    "print('pp img : '+str(len(train_img_pp)))\n",
    "print('ps img : '+str(len(train_img_ps)))\n",
    "print('--------------------------')\n",
    "print('pet label : '+str(len(train_label_pet)))\n",
    "print('pp label : '+str(len(train_label_pp)))\n",
    "print('ps label : '+str(len(train_label_ps)))\n",
    "\n",
    "print('-------test dataset------')\n",
    "print('pet img : '+str(len(test_img_pet)))\n",
    "print('pp img : '+str(len(test_img_pp)))\n",
    "print('ps img : '+str(len(test_img_ps)))\n",
    "print('--------------------------')\n",
    "print('pet label : '+str(len(test_label_pet)))\n",
    "print('pp label : '+str(len(test_label_pp)))\n",
    "print('ps label : '+str(len(test_label_ps)))"
   ]
  },
  {
   "cell_type": "markdown",
   "id": "cd5ca42c-19ae-4415-952b-5847f8577fda",
   "metadata": {},
   "source": [
    "# Convert Start"
   ]
  },
  {
   "cell_type": "code",
   "execution_count": 5,
   "id": "3eb1cea3-b86c-4157-9f92-e2b883800cfb",
   "metadata": {
    "tags": []
   },
   "outputs": [
    {
     "name": "stdout",
     "output_type": "stream",
     "text": [
      "------start train dataset------\n"
     ]
    },
    {
     "name": "stderr",
     "output_type": "stream",
     "text": [
      "100%|██████████████████████████████████████████████████████████| 186723/186723 [11:00<00:00, 282.80it/s]\n",
      "100%|██████████████████████████████████████████████████████████| 123687/123687 [10:59<00:00, 187.49it/s]\n",
      "100%|████████████████████████████████████████████████████████████| 83063/83063 [03:56<00:00, 350.79it/s]\n"
     ]
    },
    {
     "name": "stdout",
     "output_type": "stream",
     "text": [
      "------start test dataset------\n"
     ]
    },
    {
     "name": "stderr",
     "output_type": "stream",
     "text": [
      "100%|████████████████████████████████████████████████████████████| 23341/23341 [01:12<00:00, 323.58it/s]\n",
      "100%|████████████████████████████████████████████████████████████| 15461/15461 [01:04<00:00, 241.45it/s]\n",
      "100%|████████████████████████████████████████████████████████████| 10383/10383 [00:26<00:00, 395.67it/s]"
     ]
    },
    {
     "name": "stdout",
     "output_type": "stream",
     "text": [
      "end\n"
     ]
    },
    {
     "name": "stderr",
     "output_type": "stream",
     "text": [
      "\n"
     ]
    }
   ],
   "source": [
    "print('------start train dataset------')\n",
    "convert(train_img_pet, train_label_pet_path, yolo_train_path, '0', train_txt)\n",
    "convert(train_img_pp, train_label_pp_path, yolo_train_path, '1', train_txt)\n",
    "convert(train_img_ps, train_label_ps_path, yolo_train_path, '2', train_txt)\n",
    "\n",
    "print('------start test dataset------')\n",
    "convert(test_img_pet, test_label_pet_path, yolo_test_path, '0', test_txt)\n",
    "convert(test_img_pp, test_label_pp_path, yolo_test_path, '1', test_txt)\n",
    "convert(test_img_ps, test_label_ps_path, yolo_test_path, '2', test_txt)\n",
    "print('end')"
   ]
  },
  {
   "cell_type": "code",
   "execution_count": null,
   "id": "003417c3-b149-41e6-9444-8094e0773fe2",
   "metadata": {},
   "outputs": [],
   "source": []
  }
 ],
 "metadata": {
  "kernelspec": {
   "display_name": "Python 3 (ipykernel)",
   "language": "python",
   "name": "python3"
  },
  "language_info": {
   "codemirror_mode": {
    "name": "ipython",
    "version": 3
   },
   "file_extension": ".py",
   "mimetype": "text/x-python",
   "name": "python",
   "nbconvert_exporter": "python",
   "pygments_lexer": "ipython3",
   "version": "3.10.8"
  }
 },
 "nbformat": 4,
 "nbformat_minor": 5
}
