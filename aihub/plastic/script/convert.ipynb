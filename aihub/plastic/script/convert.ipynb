{
 "cells": [
  {
   "cell_type": "markdown",
   "id": "dc906a1f-5fdc-4f0b-a125-11c2a7c902fb",
   "metadata": {
    "tags": []
   },
   "source": [
    "# Import"
   ]
  },
  {
   "cell_type": "code",
   "execution_count": 1,
   "id": "b505990f-a390-49b1-8420-d3c7c500666b",
   "metadata": {},
   "outputs": [],
   "source": [
    "import json\n",
    "import os\n",
    "from tqdm import tqdm\n",
    "from glob import glob"
   ]
  },
  {
   "cell_type": "markdown",
   "id": "aae0d545-376b-4dbe-b567-54d5afb87378",
   "metadata": {},
   "source": [
    "# File Load"
   ]
  },
  {
   "cell_type": "code",
   "execution_count": 2,
   "id": "cce5795d-1a06-4a7a-92be-f80068d5326c",
   "metadata": {},
   "outputs": [
    {
     "name": "stdout",
     "output_type": "stream",
     "text": [
      "pet img : 186723\n",
      "pp img : 123687\n",
      "ps img : 83063\n",
      "--------------------------\n",
      "pet label : 186723\n",
      "pp label : 123687\n",
      "ps label : 83063\n"
     ]
    }
   ],
   "source": [
    "train_img_path = \"/home/jovyan/work/Training/원천데이터\"\n",
    "train_label_path = \"/home/jovyan/work/Training/라벨링데이터\"\n",
    "yolo_path = \"/home/jovyan/work/Training/yolo\"\n",
    "\n",
    "yolo_pet_path = yolo_path+\"/pet\"\n",
    "yolo_pp_path = yolo_path+\"/pp\"\n",
    "yolo_ps_path = yolo_path+\"/ps\"\n",
    "\n",
    "train_img_pet_path = train_img_path+\"/pet\"\n",
    "train_img_pp_path = train_img_path+\"/pp\"\n",
    "train_img_ps_path = train_img_path+\"/ps\"\n",
    "\n",
    "train_label_pet_path = train_label_path+\"/pet\"\n",
    "train_label_pp_path = train_label_path+\"/pp\"\n",
    "train_label_ps_path = train_label_path+\"/ps\"\n",
    "\n",
    "train_img_pet = glob(train_img_pet_path+'/*.jpg')\n",
    "train_img_pp = glob(train_img_pp_path+'/*.jpg')\n",
    "train_img_ps = glob(train_img_ps_path+'/*.jpg')\n",
    "\n",
    "train_label_pet = glob(train_label_pet_path+'/*.json')\n",
    "train_label_pp = glob(train_label_pp_path+'/*.json')\n",
    "train_label_ps = glob(train_label_ps_path+'/*.json')\n",
    "\n",
    "print('pet img : '+str(len(train_img_pet)))\n",
    "print('pp img : '+str(len(train_img_pp)))\n",
    "print('ps img : '+str(len(train_img_ps)))\n",
    "print('--------------------------')\n",
    "print('pet label : '+str(len(train_label_pet)))\n",
    "print('pp label : '+str(len(train_label_pp)))\n",
    "print('ps label : '+str(len(train_label_ps)))"
   ]
  },
  {
   "cell_type": "markdown",
   "id": "ded810e8-e29a-4908-96e8-e28ee8ba9b13",
   "metadata": {},
   "source": [
    "# convert func"
   ]
  },
  {
   "cell_type": "code",
   "execution_count": 3,
   "id": "9a939635-3c73-4df0-8b77-640f483aab61",
   "metadata": {},
   "outputs": [],
   "source": [
    "def convert(img_paths, label_paths, yolo_path, met):\n",
    "    for img_path in tqdm(img_paths):\n",
    "        filename = os.path.basename(img_path).split('.')[0]\n",
    "        label_file = f'{label_paths}/{filename}.json'\n",
    "        yolo = open(f'{yolo_path}/{filename}.txt','w')\n",
    "        \n",
    "        with open(label_file,'r') as f:\n",
    "            json_data = json.load(f)\n",
    "        \n",
    "        height = json_data[\"images\"][0][\"height\"]\n",
    "        width = json_data[\"images\"][0][\"width\"]\n",
    "        for obj in json_data[\"annotations\"]:\n",
    "            x = obj[\"bbox\"][0]\n",
    "            y = obj[\"bbox\"][1]\n",
    "            w = obj[\"bbox\"][2]\n",
    "            h = obj[\"bbox\"][3]\n",
    "            \n",
    "            x = (x + (x+w)) / 2 / width;\n",
    "            y = (y + (y+h)) / 2 / height;\n",
    "            shape_width = w / width;\n",
    "            shape_height = h / height;\n",
    "            yolo.write(f'{met} {x} {y} {shape_width} {shape_height}')\n",
    "            # print(f'{met} {x} {y} {shape_width} {shape_height}')\n",
    "        yolo.close()\n",
    "        \n",
    "            \n",
    "            "
   ]
  },
  {
   "cell_type": "code",
   "execution_count": 4,
   "id": "3eb1cea3-b86c-4157-9f92-e2b883800cfb",
   "metadata": {},
   "outputs": [
    {
     "name": "stderr",
     "output_type": "stream",
     "text": [
      "100%|█████████████████████████████████████████████████████████| 186723/186723 [00:51<00:00, 3595.08it/s]\n",
      "100%|█████████████████████████████████████████████████████████| 123687/123687 [00:54<00:00, 2256.37it/s]\n",
      "100%|███████████████████████████████████████████████████████████| 83063/83063 [00:34<00:00, 2427.27it/s]\n"
     ]
    }
   ],
   "source": [
    "convert(train_img_pet, train_label_pet_path, yolo_pet_path, '0')\n",
    "convert(train_img_pp, train_label_pp_path, yolo_pp_path, '1')\n",
    "convert(train_img_ps, train_label_ps_path, yolo_ps_path, '2')"
   ]
  },
  {
   "cell_type": "code",
   "execution_count": null,
   "id": "3b6a4255-e689-4d55-b493-738220cfb4d1",
   "metadata": {},
   "outputs": [],
   "source": []
  }
 ],
 "metadata": {
  "kernelspec": {
   "display_name": "Python 3 (ipykernel)",
   "language": "python",
   "name": "python3"
  },
  "language_info": {
   "codemirror_mode": {
    "name": "ipython",
    "version": 3
   },
   "file_extension": ".py",
   "mimetype": "text/x-python",
   "name": "python",
   "nbconvert_exporter": "python",
   "pygments_lexer": "ipython3",
   "version": "3.10.8"
  }
 },
 "nbformat": 4,
 "nbformat_minor": 5
}
