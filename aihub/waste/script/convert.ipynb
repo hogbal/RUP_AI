{
 "cells": [
  {
   "cell_type": "markdown",
   "id": "dc906a1f-5fdc-4f0b-a125-11c2a7c902fb",
   "metadata": {
    "tags": []
   },
   "source": [
    "# Import"
   ]
  },
  {
   "cell_type": "code",
   "execution_count": 1,
   "id": "b505990f-a390-49b1-8420-d3c7c500666b",
   "metadata": {},
   "outputs": [],
   "source": [
    "import json\n",
    "import os\n",
    "import shutil\n",
    "from tqdm import tqdm\n",
    "from glob import glob"
   ]
  },
  {
   "cell_type": "markdown",
   "id": "ded810e8-e29a-4908-96e8-e28ee8ba9b13",
   "metadata": {},
   "source": [
    "# convert func"
   ]
  },
  {
   "cell_type": "code",
   "execution_count": 6,
   "id": "b90594d1-4fcf-460e-95a1-ce4fb09bac2a",
   "metadata": {},
   "outputs": [],
   "source": [
    "def obj_class(data):\n",
    "    if(data == \"플라스틱류\"):\n",
    "        return 0\n",
    "    elif(data == \"캔류\"):\n",
    "        return 1\n",
    "    elif(data == \"종이류\"):\n",
    "        return 2\n",
    "    elif(data == \"유리병류\"):\n",
    "        return 3\n",
    "    elif(data == \"페트병류\"):\n",
    "        return 4"
   ]
  },
  {
   "cell_type": "code",
   "execution_count": 3,
   "id": "9a939635-3c73-4df0-8b77-640f483aab61",
   "metadata": {
    "tags": []
   },
   "outputs": [],
   "source": [
    "def convert(json_datas, yolo_txt_path, yolo_img_path):\n",
    "    for json_data in tqdm(json_datas):\n",
    "        filename = os.path.basename(json_data).split('.')[0]\n",
    "        yolo = open(f'{yolo_txt_path}/{filename}.txt','w')\n",
    "        \n",
    "        with open(json_data, 'r', encoding=\"utf-8\") as f:\n",
    "            json_data_parse = json.load(f)\n",
    "        \n",
    "        width, height = list(map(int,json_data_parse[\"RESOLUTION\"].split(\"*\")))\n",
    "        \n",
    "        check = False\n",
    "        \n",
    "        for obj in json_data_parse[\"Bounding\"]:\n",
    "            if(obj[\"Drawing\"]==\"BOX\"):\n",
    "                met = obj_class(obj[\"CLASS\"])\n",
    "                x1 = int(obj[\"x1\"])\n",
    "                y1 = int(obj[\"y1\"])\n",
    "                x2 = int(obj[\"x2\"])\n",
    "                y2 = int(obj[\"y2\"])\n",
    "\n",
    "                dw = 1./width\n",
    "                dh = 1./height\n",
    "                x = (x1 + x2)/2.0\n",
    "                y = (y1 + y2)/2.0\n",
    "                w = x2 - x1\n",
    "                h = y2 - y1\n",
    "                x = x*dw\n",
    "                w = w*dw\n",
    "                y = y*dh\n",
    "                h = h*dh\n",
    "\n",
    "                yolo.write(f'{met} {x:.6f} {y:.6f} {w:.6f} {h:.6f}\\n')\n",
    "                check = True\n",
    "        yolo.close()\n",
    "        \n",
    "        try:\n",
    "            if(check):\n",
    "                shutil.copyfile(f'{os.path.dirname(json_data)}/{filename}.jpg'.replace(\"json\",\"img\"),f'{yolo_img_path}/{filename}.jpg')\n",
    "            else:\n",
    "                os.remove(f'{yolo_txt_path}/{filename}.txt')\n",
    "        except:\n",
    "            os.remove(f'{yolo_txt_path}/{filename}.txt')\n",
    "            "
   ]
  },
  {
   "cell_type": "markdown",
   "id": "aae0d545-376b-4dbe-b567-54d5afb87378",
   "metadata": {
    "tags": []
   },
   "source": [
    "# File Load"
   ]
  },
  {
   "cell_type": "code",
   "execution_count": 4,
   "id": "cce5795d-1a06-4a7a-92be-f80068d5326c",
   "metadata": {
    "tags": []
   },
   "outputs": [
    {
     "name": "stdout",
     "output_type": "stream",
     "text": [
      "-------train dataset------\n",
      "img : 167543\n",
      "json : 203122\n",
      "-------test dataset------\n",
      "img : 25426\n",
      "json : 25426\n"
     ]
    }
   ],
   "source": [
    "train_img_path = \"/home/jovyan/work/Training/img\"\n",
    "train_json_path = \"/home/jovyan/work/Training/json\"\n",
    "train_yolo_img_path = \"/home/jovyan/work/Training/yolo/img\"\n",
    "train_yolo_txt_path = \"/home/jovyan/work/Training/yolo/txt\"\n",
    "train_img = glob(train_img_path+\"/*/*.jpg\")\n",
    "train_json = glob(train_json_path+\"/*/*.Json\")\n",
    "\n",
    "test_img_path = \"/home/jovyan/work/Validation/img\"\n",
    "test_json_path = \"/home/jovyan/work/Validation/json\"\n",
    "test_yolo_img_path = \"/home/jovyan/work/Validation/yolo/img\"\n",
    "test_yolo_txt_path = \"/home/jovyan/work/Validation/yolo/txt\"\n",
    "test_img = glob(test_img_path+\"/*/*.jpg\")\n",
    "test_json = glob(test_json_path+\"/*/*.Json\")\n",
    "\n",
    "print('-------train dataset------')\n",
    "print('img : '+str(len(train_img)))\n",
    "print('json : '+str(len(train_json)))\n",
    "\n",
    "print('-------test dataset------')\n",
    "print('img : '+str(len(test_img)))\n",
    "print('json : '+str(len(test_json)))"
   ]
  },
  {
   "cell_type": "markdown",
   "id": "d3988509-6e61-40ba-bc2a-97a1f3477833",
   "metadata": {
    "tags": []
   },
   "source": [
    "# Convert"
   ]
  },
  {
   "cell_type": "code",
   "execution_count": 7,
   "id": "fe3b04ae-3943-450b-86a0-89975931b5f6",
   "metadata": {},
   "outputs": [
    {
     "name": "stderr",
     "output_type": "stream",
     "text": [
      "100%|██████████████████████████████████████████████████████████| 203122/203122 [08:17<00:00, 408.01it/s]\n",
      "100%|████████████████████████████████████████████████████████████| 25426/25426 [01:13<00:00, 343.69it/s]\n"
     ]
    }
   ],
   "source": [
    "convert(train_json, train_yolo_txt_path, train_yolo_img_path)\n",
    "convert(test_json, test_yolo_txt_path, test_yolo_img_path)"
   ]
  },
  {
   "cell_type": "code",
   "execution_count": null,
   "id": "b76c24cf-9be5-4806-9ff5-a5f76ebeeb4e",
   "metadata": {},
   "outputs": [],
   "source": []
  }
 ],
 "metadata": {
  "kernelspec": {
   "display_name": "Python 3 (ipykernel)",
   "language": "python",
   "name": "python3"
  },
  "language_info": {
   "codemirror_mode": {
    "name": "ipython",
    "version": 3
   },
   "file_extension": ".py",
   "mimetype": "text/x-python",
   "name": "python",
   "nbconvert_exporter": "python",
   "pygments_lexer": "ipython3",
   "version": "3.10.8"
  }
 },
 "nbformat": 4,
 "nbformat_minor": 5
}
