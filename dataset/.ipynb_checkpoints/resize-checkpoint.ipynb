{
 "cells": [
  {
   "cell_type": "code",
   "execution_count": 2,
   "metadata": {},
   "outputs": [],
   "source": [
    "import cv2\n",
    "import numpy as np\n",
    "import os\n",
    "from glob import glob\n",
    "from tqdm import tqdm\n",
    "import xml.etree.ElementTree as ET"
   ]
  },
  {
   "cell_type": "code",
   "execution_count": 3,
   "metadata": {},
   "outputs": [],
   "source": [
    "def cvTest(filename):\n",
    "    png_name = filename+'.png'\n",
    "    xml_name = filename+'.xml'\n",
    "    imageToPredict = cv2.imread(png_name, 3)\n",
    "    \n",
    "    y = imageToPredict.shape[0]\n",
    "    x = imageToPredict.shape[1]\n",
    "\n",
    "    targetSize = 640\n",
    "    \n",
    "    if(x==targetSize and y==targetSize):\n",
    "        return\n",
    "    \n",
    "    x_scale = targetSize / x\n",
    "    y_scale = targetSize / y\n",
    "    img = cv2.resize(imageToPredict, (targetSize, targetSize))\n",
    "    img = np.array(img)\n",
    "\n",
    "    xml_file = open(xml_name, 'rt', encoding='UTF8')\n",
    "    tree = ET.parse(xml_file)\n",
    "    root = tree.getroot()\n",
    "    \n",
    "    \n",
    "    size = root.find('size')\n",
    "    size.find('width').text = str(targetSize)\n",
    "    size.find('height').text = str(targetSize)\n",
    "    \n",
    "    objects = root.findall('object')\n",
    "    \n",
    "    for object_tag in objects:\n",
    "        xmin = int(object_tag.find('bndbox').find('xmin').text)\n",
    "        ymin = int(object_tag.find('bndbox').find('ymin').text)\n",
    "        xmax = int(object_tag.find('bndbox').find('xmax').text)\n",
    "        ymax = int(object_tag.find('bndbox').find('ymax').text)\n",
    "    \n",
    "        new_xmin = str(int(np.round(xmin * x_scale)))\n",
    "        new_ymin = str(int(np.round(ymin * y_scale)))\n",
    "        new_xmax = str(int(np.round(xmax * x_scale)))\n",
    "        new_ymax = str(int(np.round(ymax * y_scale)))\n",
    "    \n",
    "        object_tag.find('bndbox').find('xmin').text = new_xmin\n",
    "        object_tag.find('bndbox').find('ymin').text = new_ymin\n",
    "        object_tag.find('bndbox').find('xmax').text = new_xmax\n",
    "        object_tag.find('bndbox').find('ymax').text = new_ymax\n",
    "    \n",
    "    cv2.imwrite(png_name, img)\n",
    "    tree.write(xml_name)"
   ]
  },
  {
   "cell_type": "code",
   "execution_count": 3,
   "metadata": {},
   "outputs": [],
   "source": [
    "pet_dir = '640x640/pet/'\n",
    "pp_dir = '640x640/pp/'\n",
    "ps_dir = '640x640/ps/'\n",
    "\n",
    "pets = glob(pet_dir+'*.png')\n",
    "pps = glob(pp_dir+'*.png')\n",
    "pss = glob(ps_dir+'*.png')"
   ]
  },
  {
   "cell_type": "code",
   "execution_count": 4,
   "metadata": {
    "scrolled": true
   },
   "outputs": [
    {
     "name": "stderr",
     "output_type": "stream",
     "text": [
      "100%|██████████| 1126/1126 [00:12<00:00, 92.10it/s]\n",
      "100%|██████████| 692/692 [00:07<00:00, 91.42it/s]\n",
      "100%|██████████| 974/974 [00:10<00:00, 90.61it/s]\n"
     ]
    }
   ],
   "source": [
    "for file in tqdm(pets):\n",
    "    filename = file[:-4]\n",
    "    cvTest(filename)\n",
    "    \n",
    "for file in tqdm(pps):\n",
    "    filename = file[:-4]\n",
    "    cvTest(filename)\n",
    "    \n",
    "for file in tqdm(pss):\n",
    "    filename = file[:-4]\n",
    "    cvTest(filename)"
   ]
  },
  {
   "cell_type": "code",
   "execution_count": null,
   "metadata": {},
   "outputs": [],
   "source": []
  }
 ],
 "metadata": {
  "kernelspec": {
   "display_name": "Python 3",
   "language": "python",
   "name": "python3"
  },
  "language_info": {
   "codemirror_mode": {
    "name": "ipython",
    "version": 3
   },
   "file_extension": ".py",
   "mimetype": "text/x-python",
   "name": "python",
   "nbconvert_exporter": "python",
   "pygments_lexer": "ipython3",
   "version": "3.6.9"
  }
 },
 "nbformat": 4,
 "nbformat_minor": 2
}
