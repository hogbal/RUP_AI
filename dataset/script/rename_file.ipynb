{
 "cells": [
  {
   "cell_type": "markdown",
   "metadata": {
    "ExecuteTime": {
     "end_time": "2021-06-20T04:33:01.189311Z",
     "start_time": "2021-06-20T04:33:01.167849Z"
    }
   },
   "source": [
    "# import"
   ]
  },
  {
   "cell_type": "code",
   "execution_count": 4,
   "metadata": {},
   "outputs": [
    {
     "name": "stdout",
     "output_type": "stream",
     "text": [
      "Collecting tqdm\n",
      "  Downloading tqdm-4.64.0-py2.py3-none-any.whl (78 kB)\n",
      "\u001b[K     |████████████████████████████████| 78 kB 3.4 MB/s eta 0:00:011\n",
      "\u001b[?25hInstalling collected packages: tqdm\n",
      "Successfully installed tqdm-4.64.0\n",
      "\u001b[33mWARNING: You are using pip version 20.2.4; however, version 22.2.2 is available.\n",
      "You should consider upgrading via the '/usr/bin/python3 -m pip install --upgrade pip' command.\u001b[0m\n"
     ]
    }
   ],
   "source": [
    "!pip3 install tqdm"
   ]
  },
  {
   "cell_type": "code",
   "execution_count": 5,
   "metadata": {
    "ExecuteTime": {
     "end_time": "2021-09-09T00:23:16.258816Z",
     "start_time": "2021-09-09T00:23:16.254229Z"
    }
   },
   "outputs": [],
   "source": [
    "import os\n",
    "from tqdm import tqdm\n",
    "from glob import glob"
   ]
  },
  {
   "cell_type": "markdown",
   "metadata": {},
   "source": [
    "# rename"
   ]
  },
  {
   "cell_type": "code",
   "execution_count": 24,
   "metadata": {},
   "outputs": [],
   "source": [
    "met = 'pet'"
   ]
  },
  {
   "cell_type": "code",
   "execution_count": 25,
   "metadata": {
    "ExecuteTime": {
     "end_time": "2021-09-09T00:24:37.665089Z",
     "start_time": "2021-09-09T00:24:37.661302Z"
    }
   },
   "outputs": [
    {
     "data": {
      "text/plain": [
       "'/tf/pet'"
      ]
     },
     "execution_count": 25,
     "metadata": {},
     "output_type": "execute_result"
    }
   ],
   "source": [
    "target_dir = f'/tf/{met}'\n",
    "target_dir"
   ]
  },
  {
   "cell_type": "code",
   "execution_count": 26,
   "metadata": {
    "ExecuteTime": {
     "end_time": "2021-09-09T00:24:37.877114Z",
     "start_time": "2021-09-09T00:24:37.865278Z"
    }
   },
   "outputs": [
    {
     "name": "stdout",
     "output_type": "stream",
     "text": [
      "classes.txt remove\n",
      "['/tf/pet/img/pet333.png', '/tf/pet/img/pet1217.png', '/tf/pet/img/pet1431.png', '/tf/pet/img/pet1476.png', '/tf/pet/img/pet680.png']\n",
      "['/tf/pet/txt/pet333.txt', '/tf/pet/txt/pet1217.txt', '/tf/pet/txt/pet1431.txt', '/tf/pet/txt/pet1476.txt', '/tf/pet/txt/pet680.txt']\n"
     ]
    }
   ],
   "source": [
    "if os.path.exists(target_dir+'/txt/classes.txt'):\n",
    "    os.remove(target_dir+'/txt/classes.txt')\n",
    "    print('classes.txt remove')\n",
    "\n",
    "img_dirs = glob(target_dir+'/img/*.png')\n",
    "txt_dirs = [f.replace('img','txt').replace('.png','.txt') for f in img_dirs]\n",
    "\n",
    "\n",
    "if(len(img_dirs) != len(txt_dirs)):\n",
    "    print('count error')\n",
    "else:\n",
    "    print(img_dirs[:5])\n",
    "    print(txt_dirs[:5])"
   ]
  },
  {
   "cell_type": "code",
   "execution_count": 27,
   "metadata": {
    "ExecuteTime": {
     "end_time": "2021-09-09T00:24:38.650655Z",
     "start_time": "2021-09-09T00:24:38.638274Z"
    }
   },
   "outputs": [
    {
     "name": "stderr",
     "output_type": "stream",
     "text": [
      "100%|██████████| 2232/2232 [00:00<00:00, 39315.49it/s]\n"
     ]
    }
   ],
   "source": [
    "count = 10000\n",
    "\n",
    "for i in tqdm(range(len(img_dirs))):\n",
    "    img_path = os.path.dirname(img_dirs[i])\n",
    "    img_name = os.path.basename(img_dirs[i]).split('.')[0]\n",
    "    txt_path = os.path.dirname(txt_dirs[i])\n",
    "    txt_name = os.path.basename(txt_dirs[i]).split('.')[0]\n",
    "\n",
    "    os.rename(f\"{img_path}/{img_name}.png\",f\"{img_path}/{met}{str(count)}.png\")\n",
    "    os.rename(f\"{txt_path}/{txt_name}.txt\",f\"{txt_path}/{met}{str(count)}.txt\")\n",
    "    count += 1"
   ]
  },
  {
   "cell_type": "markdown",
   "metadata": {},
   "source": [
    "# jpg to png"
   ]
  },
  {
   "cell_type": "code",
   "execution_count": 37,
   "metadata": {},
   "outputs": [],
   "source": [
    "from PIL import Image"
   ]
  },
  {
   "cell_type": "code",
   "execution_count": 116,
   "metadata": {},
   "outputs": [],
   "source": [
    "target_dir = '/tf/dataset/ps/img/'"
   ]
  },
  {
   "cell_type": "code",
   "execution_count": 117,
   "metadata": {},
   "outputs": [
    {
     "data": {
      "text/plain": [
       "(['/tf/dataset/ps/img/ps51.jpg',\n",
       "  '/tf/dataset/ps/img/ps4.jpg',\n",
       "  '/tf/dataset/ps/img/ps107.jpg',\n",
       "  '/tf/dataset/ps/img/ps492.jpg',\n",
       "  '/tf/dataset/ps/img/ps232.jpg'],\n",
       " 972)"
      ]
     },
     "execution_count": 117,
     "metadata": {},
     "output_type": "execute_result"
    }
   ],
   "source": [
    "dirs = glob(target_dir+'*.jpg')\n",
    "dirs[:5], len(dirs)"
   ]
  },
  {
   "cell_type": "code",
   "execution_count": 118,
   "metadata": {},
   "outputs": [
    {
     "name": "stderr",
     "output_type": "stream",
     "text": [
      "100%|██████████| 972/972 [01:30<00:00, 10.78it/s]\n"
     ]
    }
   ],
   "source": [
    "for i in tqdm(range(len(dirs))):\n",
    "    path = os.path.dirname(dirs[i])\n",
    "    name = os.path.basename(dirs[i])[:-4]\n",
    "    img = Image.open(path+'/'+name+'.jpg').convert('RGB')\n",
    "    img.save(path+'/'+name+'.png')"
   ]
  },
  {
   "cell_type": "code",
   "execution_count": null,
   "metadata": {},
   "outputs": [],
   "source": []
  }
 ],
 "metadata": {
  "kernelspec": {
   "display_name": "Python 3",
   "language": "python",
   "name": "python3"
  },
  "language_info": {
   "codemirror_mode": {
    "name": "ipython",
    "version": 3
   },
   "file_extension": ".py",
   "mimetype": "text/x-python",
   "name": "python",
   "nbconvert_exporter": "python",
   "pygments_lexer": "ipython3",
   "version": "3.8.10"
  },
  "toc": {
   "base_numbering": 1,
   "nav_menu": {},
   "number_sections": true,
   "sideBar": true,
   "skip_h1_title": false,
   "title_cell": "Table of Contents",
   "title_sidebar": "Contents",
   "toc_cell": false,
   "toc_position": {},
   "toc_section_display": true,
   "toc_window_display": false
  },
  "varInspector": {
   "cols": {
    "lenName": 16,
    "lenType": 16,
    "lenVar": 40
   },
   "kernels_config": {
    "python": {
     "delete_cmd_postfix": "",
     "delete_cmd_prefix": "del ",
     "library": "var_list.py",
     "varRefreshCmd": "print(var_dic_list())"
    },
    "r": {
     "delete_cmd_postfix": ") ",
     "delete_cmd_prefix": "rm(",
     "library": "var_list.r",
     "varRefreshCmd": "cat(var_dic_list()) "
    }
   },
   "types_to_exclude": [
    "module",
    "function",
    "builtin_function_or_method",
    "instance",
    "_Feature"
   ],
   "window_display": false
  }
 },
 "nbformat": 4,
 "nbformat_minor": 2
}
