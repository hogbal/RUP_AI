{
 "cells": [
  {
   "cell_type": "markdown",
   "metadata": {
    "ExecuteTime": {
     "end_time": "2021-06-20T04:33:01.189311Z",
     "start_time": "2021-06-20T04:33:01.167849Z"
    }
   },
   "source": [
    "# import"
   ]
  },
  {
   "cell_type": "code",
   "execution_count": 10,
   "metadata": {
    "ExecuteTime": {
     "end_time": "2021-09-09T00:23:16.258816Z",
     "start_time": "2021-09-09T00:23:16.254229Z"
    }
   },
   "outputs": [],
   "source": [
    "import os\n",
    "from tqdm import tqdm\n",
    "from glob import glob"
   ]
  },
  {
   "cell_type": "markdown",
   "metadata": {},
   "source": [
    "# rename"
   ]
  },
  {
   "cell_type": "code",
   "execution_count": 17,
   "metadata": {
    "ExecuteTime": {
     "end_time": "2021-09-09T00:24:37.665089Z",
     "start_time": "2021-09-09T00:24:37.661302Z"
    }
   },
   "outputs": [],
   "source": [
    "target_dir = '/tf/notebooks/VOC/temp/ps/'"
   ]
  },
  {
   "cell_type": "code",
   "execution_count": 18,
   "metadata": {
    "ExecuteTime": {
     "end_time": "2021-09-09T00:24:37.877114Z",
     "start_time": "2021-09-09T00:24:37.865278Z"
    }
   },
   "outputs": [
    {
     "data": {
      "text/plain": [
       "(['/tf/notebooks/VOC/temp/ps/ps45.jpg',\n",
       "  '/tf/notebooks/VOC/temp/ps/ps124.jpg',\n",
       "  '/tf/notebooks/VOC/temp/ps/ps47.jpg',\n",
       "  '/tf/notebooks/VOC/temp/ps/ps54.jpg',\n",
       "  '/tf/notebooks/VOC/temp/ps/ps241.jpg'],\n",
       " 299)"
      ]
     },
     "execution_count": 18,
     "metadata": {},
     "output_type": "execute_result"
    }
   ],
   "source": [
    "dirs = glob(target_dir+'*.jpg')\n",
    "dirs[:5], len(dirs)"
   ]
  },
  {
   "cell_type": "code",
   "execution_count": 19,
   "metadata": {
    "ExecuteTime": {
     "end_time": "2021-09-09T00:24:38.650655Z",
     "start_time": "2021-09-09T00:24:38.638274Z"
    }
   },
   "outputs": [
    {
     "name": "stderr",
     "output_type": "stream",
     "text": [
      "100%|██████████| 299/299 [00:00<00:00, 56320.87it/s]\n"
     ]
    }
   ],
   "source": [
    "count = 1089\n",
    "\n",
    "for i in tqdm(range(len(dirs))):\n",
    "    path = os.path.dirname(dirs[i])\n",
    "    name = os.path.basename(dirs[i])[:-4]\n",
    "    os.rename(path+'/'+name+'.jpg',path+'/ps'+str(count)+'.jpg')\n",
    "    os.rename(path+'/'+name+'.xml',path+'/ps'+str(count)+'.xml')\n",
    "    count += 1"
   ]
  },
  {
   "cell_type": "code",
   "execution_count": null,
   "metadata": {},
   "outputs": [],
   "source": []
  }
 ],
 "metadata": {
  "kernelspec": {
   "display_name": "Python 3",
   "language": "python",
   "name": "python3"
  },
  "language_info": {
   "codemirror_mode": {
    "name": "ipython",
    "version": 3
   },
   "file_extension": ".py",
   "mimetype": "text/x-python",
   "name": "python",
   "nbconvert_exporter": "python",
   "pygments_lexer": "ipython3",
   "version": "3.6.9"
  },
  "toc": {
   "base_numbering": 1,
   "nav_menu": {},
   "number_sections": true,
   "sideBar": true,
   "skip_h1_title": false,
   "title_cell": "Table of Contents",
   "title_sidebar": "Contents",
   "toc_cell": false,
   "toc_position": {},
   "toc_section_display": true,
   "toc_window_display": false
  },
  "varInspector": {
   "cols": {
    "lenName": 16,
    "lenType": 16,
    "lenVar": 40
   },
   "kernels_config": {
    "python": {
     "delete_cmd_postfix": "",
     "delete_cmd_prefix": "del ",
     "library": "var_list.py",
     "varRefreshCmd": "print(var_dic_list())"
    },
    "r": {
     "delete_cmd_postfix": ") ",
     "delete_cmd_prefix": "rm(",
     "library": "var_list.r",
     "varRefreshCmd": "cat(var_dic_list()) "
    }
   },
   "types_to_exclude": [
    "module",
    "function",
    "builtin_function_or_method",
    "instance",
    "_Feature"
   ],
   "window_display": false
  }
 },
 "nbformat": 4,
 "nbformat_minor": 2
}
