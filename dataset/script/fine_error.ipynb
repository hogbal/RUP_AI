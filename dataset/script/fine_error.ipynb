{
 "cells": [
  {
   "cell_type": "markdown",
   "id": "53bf56bd",
   "metadata": {
    "ExecuteTime": {
     "end_time": "2021-09-09T01:00:10.104791Z",
     "start_time": "2021-09-09T01:00:10.097390Z"
    }
   },
   "source": [
    "# import"
   ]
  },
  {
   "cell_type": "code",
   "execution_count": 8,
   "id": "6ec1017e",
   "metadata": {
    "ExecuteTime": {
     "end_time": "2021-09-09T01:01:46.683664Z",
     "start_time": "2021-09-09T01:01:46.679477Z"
    }
   },
   "outputs": [],
   "source": [
    "from glob import glob\n",
    "from tqdm import tqdm\n",
    "import xml.etree.ElementTree as ET"
   ]
  },
  {
   "cell_type": "markdown",
   "id": "73ceaf56",
   "metadata": {},
   "source": [
    "# load dataset"
   ]
  },
  {
   "cell_type": "code",
   "execution_count": 24,
   "id": "ae72d838",
   "metadata": {
    "ExecuteTime": {
     "end_time": "2021-09-09T01:11:07.526507Z",
     "start_time": "2021-09-09T01:11:07.511745Z"
    }
   },
   "outputs": [],
   "source": [
    "all_dataset = glob('/tf/notebooks/VOC/p*/*.xml')"
   ]
  },
  {
   "cell_type": "code",
   "execution_count": 25,
   "id": "fa1718ca",
   "metadata": {
    "ExecuteTime": {
     "end_time": "2021-09-09T01:11:08.956621Z",
     "start_time": "2021-09-09T01:11:08.951764Z"
    }
   },
   "outputs": [
    {
     "data": {
      "text/plain": [
       "['/tf/notebooks/VOC/ps/ps938.xml',\n",
       " '/tf/notebooks/VOC/ps/ps81.xml',\n",
       " '/tf/notebooks/VOC/ps/ps936.xml',\n",
       " '/tf/notebooks/VOC/ps/ps1285.xml',\n",
       " '/tf/notebooks/VOC/ps/ps534.xml']"
      ]
     },
     "execution_count": 25,
     "metadata": {},
     "output_type": "execute_result"
    }
   ],
   "source": [
    "all_dataset[:5]"
   ]
  },
  {
   "cell_type": "code",
   "execution_count": 26,
   "id": "0d74cc2e",
   "metadata": {
    "ExecuteTime": {
     "end_time": "2021-09-09T01:11:09.880426Z",
     "start_time": "2021-09-09T01:11:09.876051Z"
    }
   },
   "outputs": [
    {
     "data": {
      "text/plain": [
       "'/tf/notebooks/VOC/ps/ps938.xml'"
      ]
     },
     "execution_count": 26,
     "metadata": {},
     "output_type": "execute_result"
    }
   ],
   "source": [
    "all_dataset[0]"
   ]
  },
  {
   "cell_type": "markdown",
   "id": "9b11d307",
   "metadata": {},
   "source": [
    "# define function"
   ]
  },
  {
   "cell_type": "code",
   "execution_count": 27,
   "id": "b891b4c2",
   "metadata": {
    "ExecuteTime": {
     "end_time": "2021-09-09T01:11:15.257030Z",
     "start_time": "2021-09-09T01:11:15.251596Z"
    }
   },
   "outputs": [],
   "source": [
    "def find_error(filename):\n",
    "    error_name = []\n",
    "    xml_file = open(filename, 'rt', encoding='UTF8')\n",
    "    tree = ET.parse(xml_file)\n",
    "    root = tree.getroot()\n",
    "    \n",
    "    objects = root.findall('object')\n",
    "    \n",
    "    for object_tag in objects:\n",
    "        name = object_tag.find(\"name\")\n",
    "        if((name != 'pet') and (name != 'pp') and (name != 'ps')):\n",
    "            error_name.append(filename)\n",
    "            \n",
    "    return error_name"
   ]
  },
  {
   "cell_type": "code",
   "execution_count": 28,
   "id": "f37ee9bc",
   "metadata": {
    "ExecuteTime": {
     "end_time": "2021-09-09T01:11:16.382303Z",
     "start_time": "2021-09-09T01:11:16.156632Z"
    }
   },
   "outputs": [
    {
     "name": "stderr",
     "output_type": "stream",
     "text": [
      "100%|██████████| 4521/4521 [00:00<00:00, 20595.66it/s]\n"
     ]
    },
    {
     "data": {
      "text/plain": [
       "['/tf/notebooks/VOC/pet/pet1093.xml']"
      ]
     },
     "execution_count": 28,
     "metadata": {},
     "output_type": "execute_result"
    }
   ],
   "source": [
    "for filename in tqdm(all_dataset):\n",
    "    error_name = find_error(filename)\n",
    "error_name"
   ]
  },
  {
   "cell_type": "code",
   "execution_count": null,
   "id": "1c0b5b7d",
   "metadata": {},
   "outputs": [],
   "source": []
  }
 ],
 "metadata": {
  "kernelspec": {
   "display_name": "Python 3",
   "language": "python",
   "name": "python3"
  },
  "language_info": {
   "codemirror_mode": {
    "name": "ipython",
    "version": 3
   },
   "file_extension": ".py",
   "mimetype": "text/x-python",
   "name": "python",
   "nbconvert_exporter": "python",
   "pygments_lexer": "ipython3",
   "version": "3.6.9"
  },
  "toc": {
   "base_numbering": 1,
   "nav_menu": {},
   "number_sections": true,
   "sideBar": true,
   "skip_h1_title": false,
   "title_cell": "Table of Contents",
   "title_sidebar": "Contents",
   "toc_cell": false,
   "toc_position": {},
   "toc_section_display": true,
   "toc_window_display": false
  },
  "varInspector": {
   "cols": {
    "lenName": 16,
    "lenType": 16,
    "lenVar": 40
   },
   "kernels_config": {
    "python": {
     "delete_cmd_postfix": "",
     "delete_cmd_prefix": "del ",
     "library": "var_list.py",
     "varRefreshCmd": "print(var_dic_list())"
    },
    "r": {
     "delete_cmd_postfix": ") ",
     "delete_cmd_prefix": "rm(",
     "library": "var_list.r",
     "varRefreshCmd": "cat(var_dic_list()) "
    }
   },
   "types_to_exclude": [
    "module",
    "function",
    "builtin_function_or_method",
    "instance",
    "_Feature"
   ],
   "window_display": false
  }
 },
 "nbformat": 4,
 "nbformat_minor": 5
}
