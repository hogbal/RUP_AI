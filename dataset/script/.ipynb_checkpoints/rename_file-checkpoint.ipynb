{
 "cells": [
  {
   "cell_type": "markdown",
   "metadata": {
    "ExecuteTime": {
     "end_time": "2021-06-20T04:33:01.189311Z",
     "start_time": "2021-06-20T04:33:01.167849Z"
    }
   },
   "source": [
    "# import"
   ]
  },
  {
   "cell_type": "code",
   "execution_count": 29,
   "metadata": {
    "ExecuteTime": {
     "end_time": "2021-09-09T00:23:16.258816Z",
     "start_time": "2021-09-09T00:23:16.254229Z"
    }
   },
   "outputs": [],
   "source": [
    "import os\n",
    "from tqdm import tqdm\n",
    "from glob import glob"
   ]
  },
  {
   "cell_type": "markdown",
   "metadata": {},
   "source": [
    "# rename"
   ]
  },
  {
   "cell_type": "code",
   "execution_count": 34,
   "metadata": {
    "ExecuteTime": {
     "end_time": "2021-09-09T00:24:37.665089Z",
     "start_time": "2021-09-09T00:24:37.661302Z"
    }
   },
   "outputs": [],
   "source": [
    "target_dir = '/tf/dataset/pet/img/'"
   ]
  },
  {
   "cell_type": "code",
   "execution_count": 35,
   "metadata": {
    "ExecuteTime": {
     "end_time": "2021-09-09T00:24:37.877114Z",
     "start_time": "2021-09-09T00:24:37.865278Z"
    }
   },
   "outputs": [
    {
     "data": {
      "text/plain": [
       "(['/tf/dataset/pet/img/pet10544.png',\n",
       "  '/tf/dataset/pet/img/pet10332.png',\n",
       "  '/tf/dataset/pet/img/pet10659.png',\n",
       "  '/tf/dataset/pet/img/pet11023.png',\n",
       "  '/tf/dataset/pet/img/pet10445.png'],\n",
       " 1122)"
      ]
     },
     "execution_count": 35,
     "metadata": {},
     "output_type": "execute_result"
    }
   ],
   "source": [
    "dirs = glob(target_dir+'*.png')\n",
    "dirs[:5], len(dirs)"
   ]
  },
  {
   "cell_type": "code",
   "execution_count": 36,
   "metadata": {
    "ExecuteTime": {
     "end_time": "2021-09-09T00:24:38.650655Z",
     "start_time": "2021-09-09T00:24:38.638274Z"
    }
   },
   "outputs": [
    {
     "name": "stderr",
     "output_type": "stream",
     "text": [
      "100%|██████████| 1122/1122 [00:00<00:00, 42021.31it/s]\n"
     ]
    }
   ],
   "source": [
    "count = 812\n",
    "\n",
    "for i in tqdm(range(len(dirs))):\n",
    "    path = os.path.dirname(dirs[i])\n",
    "    name = os.path.basename(dirs[i])[:-4]\n",
    "    os.rename(path+'/'+name+'.png',path+'/pet'+str(count)+'.png')\n",
    "    os.rename(path+'/'+name+'.txt',path+'/pet'+str(count)+'.txt')\n",
    "    count += 1"
   ]
  },
  {
   "cell_type": "code",
   "execution_count": null,
   "metadata": {},
   "outputs": [],
   "source": []
  },
  {
   "cell_type": "code",
   "execution_count": 25,
   "metadata": {},
   "outputs": [],
   "source": [
    "from PIL import Image"
   ]
  },
  {
   "cell_type": "code",
   "execution_count": 26,
   "metadata": {},
   "outputs": [],
   "source": [
    "target_dir = '/tf/dataset/pp/img/'"
   ]
  },
  {
   "cell_type": "code",
   "execution_count": 27,
   "metadata": {},
   "outputs": [
    {
     "data": {
      "text/plain": [
       "(['/tf/dataset/pet/img/pet275.jpg',\n",
       "  '/tf/dataset/pet/img/pet551.jpg',\n",
       "  '/tf/dataset/pet/img/pet626.jpg',\n",
       "  '/tf/dataset/pet/img/pet313.jpg',\n",
       "  '/tf/dataset/pet/img/pet371.jpg'],\n",
       " 1122)"
      ]
     },
     "execution_count": 27,
     "metadata": {},
     "output_type": "execute_result"
    }
   ],
   "source": [
    "dirs = glob(target_dir+'*.jpg')\n",
    "dirs[:5], len(dirs)"
   ]
  },
  {
   "cell_type": "code",
   "execution_count": 28,
   "metadata": {},
   "outputs": [
    {
     "name": "stderr",
     "output_type": "stream",
     "text": [
      "100%|██████████| 1122/1122 [01:56<00:00,  9.67it/s]\n"
     ]
    }
   ],
   "source": [
    "for i in tqdm(range(len(dirs))):\n",
    "    path = os.path.dirname(dirs[i])\n",
    "    name = os.path.basename(dirs[i])[:-4]\n",
    "    img = Image.open(path+'/'+name+'.jpg').convert('RGB')\n",
    "    img.save(path+'/'+name+'.png')"
   ]
  },
  {
   "cell_type": "code",
   "execution_count": null,
   "metadata": {},
   "outputs": [],
   "source": []
  }
 ],
 "metadata": {
  "kernelspec": {
   "display_name": "Python 3",
   "language": "python",
   "name": "python3"
  },
  "language_info": {
   "codemirror_mode": {
    "name": "ipython",
    "version": 3
   },
   "file_extension": ".py",
   "mimetype": "text/x-python",
   "name": "python",
   "nbconvert_exporter": "python",
   "pygments_lexer": "ipython3",
   "version": "3.8.10"
  },
  "toc": {
   "base_numbering": 1,
   "nav_menu": {},
   "number_sections": true,
   "sideBar": true,
   "skip_h1_title": false,
   "title_cell": "Table of Contents",
   "title_sidebar": "Contents",
   "toc_cell": false,
   "toc_position": {},
   "toc_section_display": true,
   "toc_window_display": false
  },
  "varInspector": {
   "cols": {
    "lenName": 16,
    "lenType": 16,
    "lenVar": 40
   },
   "kernels_config": {
    "python": {
     "delete_cmd_postfix": "",
     "delete_cmd_prefix": "del ",
     "library": "var_list.py",
     "varRefreshCmd": "print(var_dic_list())"
    },
    "r": {
     "delete_cmd_postfix": ") ",
     "delete_cmd_prefix": "rm(",
     "library": "var_list.r",
     "varRefreshCmd": "cat(var_dic_list()) "
    }
   },
   "types_to_exclude": [
    "module",
    "function",
    "builtin_function_or_method",
    "instance",
    "_Feature"
   ],
   "window_display": false
  }
 },
 "nbformat": 4,
 "nbformat_minor": 2
}
