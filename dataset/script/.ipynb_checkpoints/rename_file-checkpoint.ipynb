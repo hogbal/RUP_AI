{
 "cells": [
  {
   "cell_type": "markdown",
   "metadata": {
    "ExecuteTime": {
     "end_time": "2021-06-20T04:33:01.189311Z",
     "start_time": "2021-06-20T04:33:01.167849Z"
    }
   },
   "source": [
    "# import"
   ]
  },
  {
   "cell_type": "code",
   "execution_count": 2,
   "metadata": {
    "ExecuteTime": {
     "end_time": "2021-09-09T00:23:16.258816Z",
     "start_time": "2021-09-09T00:23:16.254229Z"
    }
   },
   "outputs": [],
   "source": [
    "import os\n",
    "from tqdm import tqdm\n",
    "from glob import glob"
   ]
  },
  {
   "cell_type": "markdown",
   "metadata": {},
   "source": [
    "# rename"
   ]
  },
  {
   "cell_type": "code",
   "execution_count": 3,
   "metadata": {
    "ExecuteTime": {
     "end_time": "2021-09-09T00:24:37.665089Z",
     "start_time": "2021-09-09T00:24:37.661302Z"
    }
   },
   "outputs": [],
   "source": [
    "target_dir = '/tf/dataset/ps/img/'"
   ]
  },
  {
   "cell_type": "code",
   "execution_count": 4,
   "metadata": {
    "ExecuteTime": {
     "end_time": "2021-09-09T00:24:37.877114Z",
     "start_time": "2021-09-09T00:24:37.865278Z"
    }
   },
   "outputs": [
    {
     "data": {
      "text/plain": [
       "([], 0)"
      ]
     },
     "execution_count": 4,
     "metadata": {},
     "output_type": "execute_result"
    }
   ],
   "source": [
    "dirs = glob(target_dir+'*.png')\n",
    "dirs[:5], len(dirs)"
   ]
  },
  {
   "cell_type": "code",
   "execution_count": 128,
   "metadata": {
    "ExecuteTime": {
     "end_time": "2021-09-09T00:24:38.650655Z",
     "start_time": "2021-09-09T00:24:38.638274Z"
    }
   },
   "outputs": [
    {
     "name": "stderr",
     "output_type": "stream",
     "text": [
      "100%|██████████| 972/972 [00:00<00:00, 45671.47it/s]\n"
     ]
    }
   ],
   "source": [
    "count = 972\n",
    "\n",
    "for i in tqdm(range(len(dirs))):\n",
    "    path = os.path.dirname(dirs[i])\n",
    "    name = os.path.basename(dirs[i])[:-4]\n",
    "    os.rename(path+'/'+name+'.png',path+'/ps'+str(count)+'.png')\n",
    "    os.rename(path+'/'+name+'.txt',path+'/ps'+str(count)+'.txt')\n",
    "    count += 1"
   ]
  },
  {
   "cell_type": "code",
   "execution_count": null,
   "metadata": {},
   "outputs": [],
   "source": []
  },
  {
   "cell_type": "code",
   "execution_count": 37,
   "metadata": {},
   "outputs": [],
   "source": [
    "from PIL import Image"
   ]
  },
  {
   "cell_type": "code",
   "execution_count": 116,
   "metadata": {},
   "outputs": [],
   "source": [
    "target_dir = '/tf/dataset/ps/img/'"
   ]
  },
  {
   "cell_type": "code",
   "execution_count": 117,
   "metadata": {},
   "outputs": [
    {
     "data": {
      "text/plain": [
       "(['/tf/dataset/ps/img/ps51.jpg',\n",
       "  '/tf/dataset/ps/img/ps4.jpg',\n",
       "  '/tf/dataset/ps/img/ps107.jpg',\n",
       "  '/tf/dataset/ps/img/ps492.jpg',\n",
       "  '/tf/dataset/ps/img/ps232.jpg'],\n",
       " 972)"
      ]
     },
     "execution_count": 117,
     "metadata": {},
     "output_type": "execute_result"
    }
   ],
   "source": [
    "dirs = glob(target_dir+'*.jpg')\n",
    "dirs[:5], len(dirs)"
   ]
  },
  {
   "cell_type": "code",
   "execution_count": 118,
   "metadata": {},
   "outputs": [
    {
     "name": "stderr",
     "output_type": "stream",
     "text": [
      "100%|██████████| 972/972 [01:30<00:00, 10.78it/s]\n"
     ]
    }
   ],
   "source": [
    "for i in tqdm(range(len(dirs))):\n",
    "    path = os.path.dirname(dirs[i])\n",
    "    name = os.path.basename(dirs[i])[:-4]\n",
    "    img = Image.open(path+'/'+name+'.jpg').convert('RGB')\n",
    "    img.save(path+'/'+name+'.png')"
   ]
  },
  {
   "cell_type": "code",
   "execution_count": null,
   "metadata": {},
   "outputs": [],
   "source": []
  }
 ],
 "metadata": {
  "kernelspec": {
   "display_name": "Python 3",
   "language": "python",
   "name": "python3"
  },
  "language_info": {
   "codemirror_mode": {
    "name": "ipython",
    "version": 3
   },
   "file_extension": ".py",
   "mimetype": "text/x-python",
   "name": "python",
   "nbconvert_exporter": "python",
   "pygments_lexer": "ipython3",
   "version": "3.8.10"
  },
  "toc": {
   "base_numbering": 1,
   "nav_menu": {},
   "number_sections": true,
   "sideBar": true,
   "skip_h1_title": false,
   "title_cell": "Table of Contents",
   "title_sidebar": "Contents",
   "toc_cell": false,
   "toc_position": {},
   "toc_section_display": true,
   "toc_window_display": false
  },
  "varInspector": {
   "cols": {
    "lenName": 16,
    "lenType": 16,
    "lenVar": 40
   },
   "kernels_config": {
    "python": {
     "delete_cmd_postfix": "",
     "delete_cmd_prefix": "del ",
     "library": "var_list.py",
     "varRefreshCmd": "print(var_dic_list())"
    },
    "r": {
     "delete_cmd_postfix": ") ",
     "delete_cmd_prefix": "rm(",
     "library": "var_list.r",
     "varRefreshCmd": "cat(var_dic_list()) "
    }
   },
   "types_to_exclude": [
    "module",
    "function",
    "builtin_function_or_method",
    "instance",
    "_Feature"
   ],
   "window_display": false
  }
 },
 "nbformat": 4,
 "nbformat_minor": 2
}
