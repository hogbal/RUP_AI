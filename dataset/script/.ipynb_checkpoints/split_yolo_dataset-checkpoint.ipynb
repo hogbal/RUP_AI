{
 "cells": [
  {
   "cell_type": "markdown",
   "metadata": {},
   "source": [
    "# Import"
   ]
  },
  {
   "cell_type": "code",
   "execution_count": 1,
   "metadata": {},
   "outputs": [
    {
     "name": "stdout",
     "output_type": "stream",
     "text": [
      "Collecting sklearn\n",
      "  Downloading sklearn-0.0.tar.gz (1.1 kB)\n",
      "Collecting scikit-learn\n",
      "  Downloading scikit_learn-1.1.2-cp38-cp38-manylinux_2_17_x86_64.manylinux2014_x86_64.whl (31.2 MB)\n",
      "\u001b[K     |████████████████████████████████| 31.2 MB 5.3 MB/s eta 0:00:01\n",
      "\u001b[?25hCollecting scipy>=1.3.2\n",
      "  Downloading scipy-1.9.0-cp38-cp38-manylinux_2_17_x86_64.manylinux2014_x86_64.whl (43.4 MB)\n",
      "\u001b[K     |████████████████████████████████| 43.4 MB 70.4 MB/s eta 0:00:01     |██████████████████████████▉     | 36.3 MB 70.4 MB/s eta 0:00:01\n",
      "\u001b[?25hRequirement already satisfied: numpy>=1.17.3 in /usr/local/lib/python3.8/dist-packages (from scikit-learn->sklearn) (1.22.4)\n",
      "Collecting joblib>=1.0.0\n",
      "  Downloading joblib-1.1.0-py2.py3-none-any.whl (306 kB)\n",
      "\u001b[K     |████████████████████████████████| 306 kB 69.0 MB/s eta 0:00:01\n",
      "\u001b[?25hCollecting threadpoolctl>=2.0.0\n",
      "  Downloading threadpoolctl-3.1.0-py3-none-any.whl (14 kB)\n",
      "Building wheels for collected packages: sklearn\n",
      "  Building wheel for sklearn (setup.py) ... \u001b[?25ldone\n",
      "\u001b[?25h  Created wheel for sklearn: filename=sklearn-0.0-py2.py3-none-any.whl size=1302 sha256=f0382950f7064c7f0096adb79b84ce94b39ddf3be5e0e7a5211e1b02fb1eb61c\n",
      "  Stored in directory: /root/.cache/pip/wheels/22/0b/40/fd3f795caaa1fb4c6cb738bc1f56100be1e57da95849bfc897\n",
      "Successfully built sklearn\n",
      "Installing collected packages: scipy, joblib, threadpoolctl, scikit-learn, sklearn\n",
      "Successfully installed joblib-1.1.0 scikit-learn-1.1.2 scipy-1.9.0 sklearn-0.0 threadpoolctl-3.1.0\n",
      "\u001b[33mWARNING: You are using pip version 20.2.4; however, version 22.2.2 is available.\n",
      "You should consider upgrading via the '/usr/bin/python3 -m pip install --upgrade pip' command.\u001b[0m\n",
      "Collecting tqdm\n",
      "  Downloading tqdm-4.64.0-py2.py3-none-any.whl (78 kB)\n",
      "\u001b[K     |████████████████████████████████| 78 kB 3.3 MB/s eta 0:00:011\n",
      "\u001b[?25hInstalling collected packages: tqdm\n",
      "Successfully installed tqdm-4.64.0\n",
      "\u001b[33mWARNING: You are using pip version 20.2.4; however, version 22.2.2 is available.\n",
      "You should consider upgrading via the '/usr/bin/python3 -m pip install --upgrade pip' command.\u001b[0m\n"
     ]
    }
   ],
   "source": [
    "!pip3 install sklearn\n",
    "!pip3 install tqdm"
   ]
  },
  {
   "cell_type": "code",
   "execution_count": 2,
   "metadata": {},
   "outputs": [],
   "source": [
    "import os\n",
    "from glob import glob\n",
    "from tqdm import tqdm\n",
    "import shutil\n",
    "from sklearn.model_selection import train_test_split"
   ]
  },
  {
   "cell_type": "markdown",
   "metadata": {},
   "source": [
    "# split"
   ]
  },
  {
   "cell_type": "code",
   "execution_count": 3,
   "metadata": {},
   "outputs": [],
   "source": [
    "def split_dataset(met):\n",
    "    img_src_path = f\"/tf/YOLO/new_dataset/{met}/img\"\n",
    "    txt_src_path = f\"/tf/YOLO/new_dataset/{met}/txt\"\n",
    "    train_dest_path = \"/tf/YOLO/split/train\"\n",
    "    test_dest_path = \"/tf/YOLO/split/test\"\n",
    "    \n",
    "    train_txt = open(\"/tf/YOLO/split/train.txt\",'a+')\n",
    "    test_txt = open(\"/tf/YOLO/split/test.txt\",\"a+\")\n",
    "    train_path = \"/rup/data/train\"\n",
    "    test_path = \"/rup/data/test\"\n",
    "    \n",
    "    img_list = glob(f\"/tf/YOLO/new_dataset/{met}/img/*.png\")\n",
    "    imgs = [i.replace(\".png\",\"\") for i in img_list]\n",
    "    train_names, test_names = train_test_split(imgs, test_size=0.1,shuffle=True)\n",
    "    \n",
    "    print(f\"-----------{met}-----------\")\n",
    "    print(f\"train\")\n",
    "    for file in tqdm(train_names):\n",
    "        img = file.split('/')[-1]+'.png'\n",
    "        txt = file.split('/')[-1]+'.txt'\n",
    "\n",
    "        shutil.copy(os.path.join(img_src_path,img),os.path.join(train_dest_path,img))\n",
    "        shutil.copy(os.path.join(txt_src_path,txt),os.path.join(train_dest_path,txt))\n",
    "        \n",
    "        train_txt.write(os.path.join(train_path,img)+'\\n')\n",
    "        \n",
    "    print(f\"test\")\n",
    "    for file in tqdm(test_names):\n",
    "        img = file.split('/')[-1]+'.png'\n",
    "        txt = file.split('/')[-1]+'.txt'\n",
    "\n",
    "        shutil.copy(os.path.join(img_src_path,img),os.path.join(test_dest_path,img))\n",
    "        shutil.copy(os.path.join(txt_src_path,txt),os.path.join(test_dest_path,txt))\n",
    "        \n",
    "        test_txt.write(os.path.join(test_path,img)+'\\n')"
   ]
  },
  {
   "cell_type": "code",
   "execution_count": 4,
   "metadata": {},
   "outputs": [
    {
     "name": "stdout",
     "output_type": "stream",
     "text": [
      "init split\n",
      "create split\n",
      "create train\n",
      "create test\n",
      "-----------pet-----------\n",
      "train\n"
     ]
    },
    {
     "name": "stderr",
     "output_type": "stream",
     "text": [
      "100%|██████████| 1740/1740 [00:00<00:00, 3689.65it/s]\n"
     ]
    },
    {
     "name": "stdout",
     "output_type": "stream",
     "text": [
      "test\n"
     ]
    },
    {
     "name": "stderr",
     "output_type": "stream",
     "text": [
      "100%|██████████| 194/194 [00:00<00:00, 3655.28it/s]\n"
     ]
    },
    {
     "name": "stdout",
     "output_type": "stream",
     "text": [
      "-----------ps-----------\n",
      "train\n"
     ]
    },
    {
     "name": "stderr",
     "output_type": "stream",
     "text": [
      "100%|██████████| 874/874 [00:00<00:00, 3124.42it/s]\n"
     ]
    },
    {
     "name": "stdout",
     "output_type": "stream",
     "text": [
      "test\n"
     ]
    },
    {
     "name": "stderr",
     "output_type": "stream",
     "text": [
      "100%|██████████| 98/98 [00:00<00:00, 3059.74it/s]\n"
     ]
    },
    {
     "name": "stdout",
     "output_type": "stream",
     "text": [
      "-----------pp-----------\n",
      "train\n"
     ]
    },
    {
     "name": "stderr",
     "output_type": "stream",
     "text": [
      "100%|██████████| 1546/1546 [00:00<00:00, 3855.01it/s]\n"
     ]
    },
    {
     "name": "stdout",
     "output_type": "stream",
     "text": [
      "test\n"
     ]
    },
    {
     "name": "stderr",
     "output_type": "stream",
     "text": [
      "100%|██████████| 172/172 [00:00<00:00, 3684.74it/s]\n"
     ]
    }
   ],
   "source": [
    "if os.path.exists(\"/tf/YOLO/split\"):\n",
    "    shutil.rmtree(\"/tf/YOLO/split\")\n",
    "    print(\"init split\")\n",
    "\n",
    "if not os.path.exists(\"/tf/YOLO/split\"):\n",
    "    os.makedirs(\"/tf/YOLO/split\")\n",
    "    print(\"create split\")\n",
    "    \n",
    "if not os.path.exists(\"/tf/YOLO/split/train\"):\n",
    "    os.makedirs(\"/tf/YOLO/split/train\")\n",
    "    print(\"create train\")\n",
    "    \n",
    "if not os.path.exists(\"/tf/YOLO/split/test\"):\n",
    "    os.makedirs(\"/tf/YOLO/split/test\")\n",
    "    print(\"create test\")\n",
    "    \n",
    "split_dataset(\"pet\")\n",
    "split_dataset(\"ps\")\n",
    "split_dataset(\"pp\")"
   ]
  },
  {
   "cell_type": "code",
   "execution_count": null,
   "metadata": {},
   "outputs": [],
   "source": []
  }
 ],
 "metadata": {
  "kernelspec": {
   "display_name": "Python 3",
   "language": "python",
   "name": "python3"
  },
  "language_info": {
   "codemirror_mode": {
    "name": "ipython",
    "version": 3
   },
   "file_extension": ".py",
   "mimetype": "text/x-python",
   "name": "python",
   "nbconvert_exporter": "python",
   "pygments_lexer": "ipython3",
   "version": "3.8.10"
  }
 },
 "nbformat": 4,
 "nbformat_minor": 2
}
