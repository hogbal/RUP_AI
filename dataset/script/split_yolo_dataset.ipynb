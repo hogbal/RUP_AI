{
 "cells": [
  {
   "cell_type": "markdown",
   "metadata": {},
   "source": [
    "# Import"
   ]
  },
  {
   "cell_type": "code",
   "execution_count": 1,
   "metadata": {},
   "outputs": [
    {
     "name": "stdout",
     "output_type": "stream",
     "text": [
      "Collecting sklearn\n",
      "  Downloading sklearn-0.0.tar.gz (1.1 kB)\n",
      "Collecting scikit-learn\n",
      "  Downloading scikit_learn-1.1.2-cp38-cp38-manylinux_2_17_x86_64.manylinux2014_x86_64.whl (31.2 MB)\n",
      "\u001b[K     |████████████████████████████████| 31.2 MB 4.3 MB/s eta 0:00:01\n",
      "\u001b[?25hCollecting joblib>=1.0.0\n",
      "  Downloading joblib-1.1.0-py2.py3-none-any.whl (306 kB)\n",
      "\u001b[K     |████████████████████████████████| 306 kB 64.9 MB/s eta 0:00:01\n",
      "\u001b[?25hCollecting threadpoolctl>=2.0.0\n",
      "  Downloading threadpoolctl-3.1.0-py3-none-any.whl (14 kB)\n",
      "Collecting scipy>=1.3.2\n",
      "  Downloading scipy-1.9.1-cp38-cp38-manylinux_2_17_x86_64.manylinux2014_x86_64.whl (43.4 MB)\n",
      "\u001b[K     |████████████████████████████████| 43.4 MB 69.2 MB/s eta 0:00:01    |██▋                             | 3.5 MB 69.2 MB/s eta 0:00:01\n",
      "\u001b[?25hRequirement already satisfied: numpy>=1.17.3 in /usr/local/lib/python3.8/dist-packages (from scikit-learn->sklearn) (1.22.4)\n",
      "Building wheels for collected packages: sklearn\n",
      "  Building wheel for sklearn (setup.py) ... \u001b[?25ldone\n",
      "\u001b[?25h  Created wheel for sklearn: filename=sklearn-0.0-py2.py3-none-any.whl size=1302 sha256=19fb137a984afc00be3f0a997295fa8c6d698a66fd2951dbcfcaa5f0e3c6c6cb\n",
      "  Stored in directory: /root/.cache/pip/wheels/22/0b/40/fd3f795caaa1fb4c6cb738bc1f56100be1e57da95849bfc897\n",
      "Successfully built sklearn\n",
      "Installing collected packages: joblib, threadpoolctl, scipy, scikit-learn, sklearn\n",
      "Successfully installed joblib-1.1.0 scikit-learn-1.1.2 scipy-1.9.1 sklearn-0.0 threadpoolctl-3.1.0\n",
      "\u001b[33mWARNING: You are using pip version 20.2.4; however, version 22.2.2 is available.\n",
      "You should consider upgrading via the '/usr/bin/python3 -m pip install --upgrade pip' command.\u001b[0m\n",
      "Requirement already satisfied: tqdm in /usr/local/lib/python3.8/dist-packages (4.64.1)\n",
      "\u001b[33mWARNING: You are using pip version 20.2.4; however, version 22.2.2 is available.\n",
      "You should consider upgrading via the '/usr/bin/python3 -m pip install --upgrade pip' command.\u001b[0m\n"
     ]
    }
   ],
   "source": [
    "!pip3 install sklearn\n",
    "!pip3 install tqdm"
   ]
  },
  {
   "cell_type": "code",
   "execution_count": 2,
   "metadata": {},
   "outputs": [],
   "source": [
    "import os\n",
    "from glob import glob\n",
    "from tqdm import tqdm\n",
    "import shutil\n",
    "from sklearn.model_selection import train_test_split"
   ]
  },
  {
   "cell_type": "markdown",
   "metadata": {},
   "source": [
    "# split"
   ]
  },
  {
   "cell_type": "code",
   "execution_count": 3,
   "metadata": {},
   "outputs": [],
   "source": [
    "def split_dataset(met):\n",
    "    img_src_path = f\"/tf/YOLO/new_dataset/{met}/img\"\n",
    "    txt_src_path = f\"/tf/YOLO/new_dataset/{met}/txt\"\n",
    "    train_dest_path = \"/tf/YOLO/split/train\"\n",
    "    test_dest_path = \"/tf/YOLO/split/test\"\n",
    "    \n",
    "    train_txt = open(\"/tf/YOLO/split/train.txt\",'a+')\n",
    "    test_txt = open(\"/tf/YOLO/split/test.txt\",\"a+\")\n",
    "    train_path = \"/rup/data/train\"\n",
    "    test_path = \"/rup/data/test\"\n",
    "    \n",
    "    img_list = glob(f\"/tf/YOLO/new_dataset/{met}/img/*.png\")\n",
    "    imgs = [i.replace(\".png\",\"\") for i in img_list]\n",
    "    train_names, test_names = train_test_split(imgs, test_size=0.1,shuffle=True)\n",
    "    \n",
    "    print(f\"-----------{met}-----------\")\n",
    "    print(f\"train\")\n",
    "    for file in tqdm(train_names):\n",
    "        img = file.split('/')[-1]+'.png'\n",
    "        txt = file.split('/')[-1]+'.txt'\n",
    "\n",
    "        shutil.copy(os.path.join(img_src_path,img),os.path.join(train_dest_path,img))\n",
    "        shutil.copy(os.path.join(txt_src_path,txt),os.path.join(train_dest_path,txt))\n",
    "        \n",
    "        train_txt.write(os.path.join(train_path,img)+'\\n')\n",
    "        \n",
    "    print(f\"test\")\n",
    "    for file in tqdm(test_names):\n",
    "        img = file.split('/')[-1]+'.png'\n",
    "        txt = file.split('/')[-1]+'.txt'\n",
    "\n",
    "        shutil.copy(os.path.join(img_src_path,img),os.path.join(test_dest_path,img))\n",
    "        shutil.copy(os.path.join(txt_src_path,txt),os.path.join(test_dest_path,txt))\n",
    "        \n",
    "        test_txt.write(os.path.join(test_path,img)+'\\n')"
   ]
  },
  {
   "cell_type": "code",
   "execution_count": 4,
   "metadata": {},
   "outputs": [
    {
     "name": "stdout",
     "output_type": "stream",
     "text": [
      "init split\n",
      "create split\n",
      "create train\n",
      "create test\n",
      "-----------pet-----------\n",
      "train\n"
     ]
    },
    {
     "name": "stderr",
     "output_type": "stream",
     "text": [
      "100%|██████████| 2008/2008 [00:01<00:00, 1185.98it/s]\n"
     ]
    },
    {
     "name": "stdout",
     "output_type": "stream",
     "text": [
      "test\n"
     ]
    },
    {
     "name": "stderr",
     "output_type": "stream",
     "text": [
      "100%|██████████| 224/224 [00:00<00:00, 1179.72it/s]\n"
     ]
    },
    {
     "name": "stdout",
     "output_type": "stream",
     "text": [
      "-----------ps-----------\n",
      "train\n"
     ]
    },
    {
     "name": "stderr",
     "output_type": "stream",
     "text": [
      "100%|██████████| 1528/1528 [00:01<00:00, 1518.20it/s]\n"
     ]
    },
    {
     "name": "stdout",
     "output_type": "stream",
     "text": [
      "test\n"
     ]
    },
    {
     "name": "stderr",
     "output_type": "stream",
     "text": [
      "100%|██████████| 170/170 [00:00<00:00, 1404.13it/s]\n"
     ]
    },
    {
     "name": "stdout",
     "output_type": "stream",
     "text": [
      "-----------pp-----------\n",
      "train\n"
     ]
    },
    {
     "name": "stderr",
     "output_type": "stream",
     "text": [
      "100%|██████████| 970/970 [00:00<00:00, 1098.19it/s]\n"
     ]
    },
    {
     "name": "stdout",
     "output_type": "stream",
     "text": [
      "test\n"
     ]
    },
    {
     "name": "stderr",
     "output_type": "stream",
     "text": [
      "100%|██████████| 108/108 [00:00<00:00, 1235.80it/s]\n"
     ]
    }
   ],
   "source": [
    "if os.path.exists(\"/tf/YOLO/split\"):\n",
    "    shutil.rmtree(\"/tf/YOLO/split\")\n",
    "    print(\"init split\")\n",
    "\n",
    "if not os.path.exists(\"/tf/YOLO/split\"):\n",
    "    os.makedirs(\"/tf/YOLO/split\")\n",
    "    print(\"create split\")\n",
    "    \n",
    "if not os.path.exists(\"/tf/YOLO/split/train\"):\n",
    "    os.makedirs(\"/tf/YOLO/split/train\")\n",
    "    print(\"create train\")\n",
    "    \n",
    "if not os.path.exists(\"/tf/YOLO/split/test\"):\n",
    "    os.makedirs(\"/tf/YOLO/split/test\")\n",
    "    print(\"create test\")\n",
    "    \n",
    "split_dataset(\"pet\")\n",
    "split_dataset(\"ps\")\n",
    "split_dataset(\"pp\")"
   ]
  },
  {
   "cell_type": "code",
   "execution_count": null,
   "metadata": {},
   "outputs": [],
   "source": []
  }
 ],
 "metadata": {
  "kernelspec": {
   "display_name": "Python 3",
   "language": "python",
   "name": "python3"
  },
  "language_info": {
   "codemirror_mode": {
    "name": "ipython",
    "version": 3
   },
   "file_extension": ".py",
   "mimetype": "text/x-python",
   "name": "python",
   "nbconvert_exporter": "python",
   "pygments_lexer": "ipython3",
   "version": "3.8.10"
  }
 },
 "nbformat": 4,
 "nbformat_minor": 2
}
