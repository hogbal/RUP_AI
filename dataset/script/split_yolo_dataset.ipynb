{
 "cells": [
  {
   "cell_type": "markdown",
   "metadata": {},
   "source": [
    "# Import"
   ]
  },
  {
   "cell_type": "code",
   "execution_count": 1,
   "metadata": {},
   "outputs": [
    {
     "name": "stdout",
     "output_type": "stream",
     "text": [
      "Requirement already satisfied: scikit-learn in /opt/conda/lib/python3.10/site-packages (1.2.0)\n",
      "Requirement already satisfied: scipy>=1.3.2 in /opt/conda/lib/python3.10/site-packages (from scikit-learn) (1.9.3)\n",
      "Requirement already satisfied: joblib>=1.1.1 in /opt/conda/lib/python3.10/site-packages (from scikit-learn) (1.2.0)\n",
      "Requirement already satisfied: threadpoolctl>=2.0.0 in /opt/conda/lib/python3.10/site-packages (from scikit-learn) (3.1.0)\n",
      "Requirement already satisfied: numpy>=1.17.3 in /opt/conda/lib/python3.10/site-packages (from scikit-learn) (1.23.5)\n",
      "Requirement already satisfied: tqdm in /opt/conda/lib/python3.10/site-packages (4.64.1)\n"
     ]
    }
   ],
   "source": [
    "!pip3 install scikit-learn\n",
    "!pip3 install tqdm"
   ]
  },
  {
   "cell_type": "code",
   "execution_count": 2,
   "metadata": {},
   "outputs": [],
   "source": [
    "import os\n",
    "from glob import glob\n",
    "from tqdm import tqdm\n",
    "import shutil\n",
    "from sklearn.model_selection import train_test_split"
   ]
  },
  {
   "cell_type": "markdown",
   "metadata": {},
   "source": [
    "# split"
   ]
  },
  {
   "cell_type": "code",
   "execution_count": 3,
   "metadata": {},
   "outputs": [],
   "source": [
    "def split_dataset(met):\n",
    "    img_src_path = f\"/home/jovyan/work/YOLO/new_dataset/{met}/img\"\n",
    "    txt_src_path = f\"/home/jovyan/work/YOLO/new_dataset/{met}/txt\"\n",
    "    train_dest_path = \"/home/jovyan/work/YOLO/split/train\"\n",
    "    test_dest_path = \"/home/jovyan/work/YOLO/split/test\"\n",
    "    \n",
    "    train_txt = open(\"/home/jovyan/work/YOLO/split/train.txt\",'a+')\n",
    "    test_txt = open(\"/home/jovyan/work/YOLO/split/test.txt\",\"a+\")\n",
    "    train_path = \"/rup/data/train\"\n",
    "    test_path = \"/rup/data/test\"\n",
    "    \n",
    "    img_list = glob(f\"/home/jovyan/work/YOLO/new_dataset/{met}/img/*.png\")\n",
    "    imgs = [i.replace(\".png\",\"\") for i in img_list]\n",
    "    train_names, test_names = train_test_split(imgs, test_size=0.1,shuffle=True)\n",
    "    \n",
    "    print(f\"-----------{met}-----------\")\n",
    "    print(f\"train\")\n",
    "    for file in tqdm(train_names):\n",
    "        img = file.split('/')[-1]+'.png'\n",
    "        txt = file.split('/')[-1]+'.txt'\n",
    "\n",
    "        shutil.copy(os.path.join(img_src_path,img),os.path.join(train_dest_path,img))\n",
    "        shutil.copy(os.path.join(txt_src_path,txt),os.path.join(train_dest_path,txt))\n",
    "        \n",
    "        train_txt.write(os.path.join(train_path,img)+'\\n')\n",
    "        \n",
    "    print(f\"test\")\n",
    "    for file in tqdm(test_names):\n",
    "        img = file.split('/')[-1]+'.png'\n",
    "        txt = file.split('/')[-1]+'.txt'\n",
    "\n",
    "        shutil.copy(os.path.join(img_src_path,img),os.path.join(test_dest_path,img))\n",
    "        shutil.copy(os.path.join(txt_src_path,txt),os.path.join(test_dest_path,txt))\n",
    "        \n",
    "        test_txt.write(os.path.join(test_path,img)+'\\n')"
   ]
  },
  {
   "cell_type": "code",
   "execution_count": 4,
   "metadata": {},
   "outputs": [
    {
     "name": "stdout",
     "output_type": "stream",
     "text": [
      "init split\n",
      "create split\n",
      "create train\n",
      "create test\n",
      "-----------pet-----------\n",
      "train\n"
     ]
    },
    {
     "name": "stderr",
     "output_type": "stream",
     "text": [
      "100%|██████████| 3291/3291 [00:00<00:00, 4038.49it/s]\n"
     ]
    },
    {
     "name": "stdout",
     "output_type": "stream",
     "text": [
      "test\n"
     ]
    },
    {
     "name": "stderr",
     "output_type": "stream",
     "text": [
      "100%|██████████| 366/366 [00:00<00:00, 3982.10it/s]\n"
     ]
    },
    {
     "name": "stdout",
     "output_type": "stream",
     "text": [
      "-----------pp-----------\n",
      "train\n"
     ]
    },
    {
     "name": "stderr",
     "output_type": "stream",
     "text": [
      "100%|██████████| 2470/2470 [00:00<00:00, 4370.03it/s]\n"
     ]
    },
    {
     "name": "stdout",
     "output_type": "stream",
     "text": [
      "test\n"
     ]
    },
    {
     "name": "stderr",
     "output_type": "stream",
     "text": [
      "100%|██████████| 275/275 [00:00<00:00, 4168.79it/s]\n"
     ]
    },
    {
     "name": "stdout",
     "output_type": "stream",
     "text": [
      "-----------ps-----------\n",
      "train\n"
     ]
    },
    {
     "name": "stderr",
     "output_type": "stream",
     "text": [
      "100%|██████████| 1528/1528 [00:00<00:00, 3541.67it/s]\n"
     ]
    },
    {
     "name": "stdout",
     "output_type": "stream",
     "text": [
      "test\n"
     ]
    },
    {
     "name": "stderr",
     "output_type": "stream",
     "text": [
      "100%|██████████| 170/170 [00:00<00:00, 3406.42it/s]\n"
     ]
    }
   ],
   "source": [
    "if os.path.exists(\"/home/jovyan/work/YOLO/split\"):\n",
    "    shutil.rmtree(\"/home/jovyan/work/YOLO/split\")\n",
    "    print(\"init split\")\n",
    "\n",
    "if not os.path.exists(\"/home/jovyan/work/YOLO/split\"):\n",
    "    os.makedirs(\"/home/jovyan/work/YOLO/split\")\n",
    "    print(\"create split\")\n",
    "    \n",
    "if not os.path.exists(\"/home/jovyan/work/YOLO/split/train\"):\n",
    "    os.makedirs(\"/home/jovyan/work/YOLO/split/train\")\n",
    "    print(\"create train\")\n",
    "    \n",
    "if not os.path.exists(\"/home/jovyan/work/YOLO/split/test\"):\n",
    "    os.makedirs(\"/home/jovyan/work/YOLO/split/test\")\n",
    "    print(\"create test\")\n",
    "    \n",
    "split_dataset(\"pet\")\n",
    "split_dataset(\"pp\")\n",
    "split_dataset(\"ps\")"
   ]
  },
  {
   "cell_type": "code",
   "execution_count": null,
   "metadata": {},
   "outputs": [],
   "source": []
  }
 ],
 "metadata": {
  "kernelspec": {
   "display_name": "Python 3 (ipykernel)",
   "language": "python",
   "name": "python3"
  },
  "language_info": {
   "codemirror_mode": {
    "name": "ipython",
    "version": 3
   },
   "file_extension": ".py",
   "mimetype": "text/x-python",
   "name": "python",
   "nbconvert_exporter": "python",
   "pygments_lexer": "ipython3",
   "version": "3.10.8"
  }
 },
 "nbformat": 4,
 "nbformat_minor": 4
}
