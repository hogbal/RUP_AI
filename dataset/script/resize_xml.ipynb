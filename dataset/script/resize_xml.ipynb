{
 "cells": [
  {
   "cell_type": "code",
   "execution_count": 9,
   "metadata": {
    "ExecuteTime": {
     "end_time": "2021-09-09T00:33:14.048629Z",
     "start_time": "2021-09-09T00:33:14.043732Z"
    }
   },
   "outputs": [],
   "source": [
    "import cv2\n",
    "import numpy as np\n",
    "import os\n",
    "from glob import glob\n",
    "from tqdm import tqdm\n",
    "import xml.etree.ElementTree as ET"
   ]
  },
  {
   "cell_type": "code",
   "execution_count": 10,
   "metadata": {
    "ExecuteTime": {
     "end_time": "2021-09-09T00:33:14.440190Z",
     "start_time": "2021-09-09T00:33:14.432692Z"
    }
   },
   "outputs": [],
   "source": [
    "def cvTest(filename):\n",
    "    jpg_name = filename+'.jpg'\n",
    "    xml_name = filename+'.xml'\n",
    "    imageToPredict = cv2.imread(jpg_name, 3)\n",
    "    \n",
    "    y = imageToPredict.shape[0]\n",
    "    x = imageToPredict.shape[1]\n",
    "\n",
    "    targetSize = 640\n",
    "    \n",
    "    if(x==targetSize and y==targetSize):\n",
    "        return\n",
    "    \n",
    "    x_scale = targetSize / x\n",
    "    y_scale = targetSize / y\n",
    "    img = cv2.resize(imageToPredict, (targetSize, targetSize))\n",
    "    img = np.array(img)\n",
    "\n",
    "    xml_file = open(xml_name, 'rt', encoding='UTF8')\n",
    "    tree = ET.parse(xml_file)\n",
    "    root = tree.getroot()\n",
    "    \n",
    "    \n",
    "    size = root.find('size')\n",
    "    size.find('width').text = str(targetSize)\n",
    "    size.find('height').text = str(targetSize)\n",
    "    \n",
    "    objects = root.findall('object')\n",
    "    \n",
    "    for object_tag in objects:\n",
    "        xmin = int(object_tag.find('bndbox').find('xmin').text)\n",
    "        ymin = int(object_tag.find('bndbox').find('ymin').text)\n",
    "        xmax = int(object_tag.find('bndbox').find('xmax').text)\n",
    "        ymax = int(object_tag.find('bndbox').find('ymax').text)\n",
    "    \n",
    "        new_xmin = str(int(np.round(xmin * x_scale)))\n",
    "        new_ymin = str(int(np.round(ymin * y_scale)))\n",
    "        new_xmax = str(int(np.round(xmax * x_scale)))\n",
    "        new_ymax = str(int(np.round(ymax * y_scale)))\n",
    "    \n",
    "        object_tag.find('bndbox').find('xmin').text = new_xmin\n",
    "        object_tag.find('bndbox').find('ymin').text = new_ymin\n",
    "        object_tag.find('bndbox').find('xmax').text = new_xmax\n",
    "        object_tag.find('bndbox').find('ymax').text = new_ymax\n",
    "    \n",
    "    cv2.imwrite(jpg_name, img)\n",
    "    tree.write(xml_name)"
   ]
  },
  {
   "cell_type": "code",
   "execution_count": 11,
   "metadata": {
    "ExecuteTime": {
     "end_time": "2021-09-09T00:33:16.295734Z",
     "start_time": "2021-09-09T00:33:16.287033Z"
    }
   },
   "outputs": [],
   "source": [
    "#pet_dir = '640x640/pet/'\n",
    "pp_dir = '/tf/notebooks/VOC/temp/pp/'\n",
    "ps_dir = '/tf/notebooks/VOC/temp/ps/'\n",
    "\n",
    "#pets = glob(pet_dir+'*.jpg')\n",
    "pps = glob(pp_dir+'*.jpg')\n",
    "pss = glob(ps_dir+'*.jpg')"
   ]
  },
  {
   "cell_type": "code",
   "execution_count": 12,
   "metadata": {
    "ExecuteTime": {
     "end_time": "2021-09-09T00:33:16.825859Z",
     "start_time": "2021-09-09T00:33:16.820520Z"
    }
   },
   "outputs": [
    {
     "data": {
      "text/plain": [
       "(['/tf/notebooks/VOC/temp/pp/pp2074.jpg',\n",
       "  '/tf/notebooks/VOC/temp/pp/pp1153.jpg',\n",
       "  '/tf/notebooks/VOC/temp/pp/pp1633.jpg',\n",
       "  '/tf/notebooks/VOC/temp/pp/pp1152.jpg',\n",
       "  '/tf/notebooks/VOC/temp/pp/pp1855.jpg'],\n",
       " 1347)"
      ]
     },
     "execution_count": 12,
     "metadata": {},
     "output_type": "execute_result"
    }
   ],
   "source": [
    "pps[:5], len(pps)"
   ]
  },
  {
   "cell_type": "code",
   "execution_count": 13,
   "metadata": {
    "ExecuteTime": {
     "end_time": "2021-09-09T00:33:17.480942Z",
     "start_time": "2021-09-09T00:33:17.475585Z"
    }
   },
   "outputs": [
    {
     "data": {
      "text/plain": [
       "(['/tf/notebooks/VOC/temp/ps/ps1196.jpg',\n",
       "  '/tf/notebooks/VOC/temp/ps/ps1282.jpg',\n",
       "  '/tf/notebooks/VOC/temp/ps/ps1147.jpg',\n",
       "  '/tf/notebooks/VOC/temp/ps/ps1155.jpg',\n",
       "  '/tf/notebooks/VOC/temp/ps/ps1126.jpg'],\n",
       " 299)"
      ]
     },
     "execution_count": 13,
     "metadata": {},
     "output_type": "execute_result"
    }
   ],
   "source": [
    "pss[:5], len(pss)"
   ]
  },
  {
   "cell_type": "code",
   "execution_count": 14,
   "metadata": {
    "ExecuteTime": {
     "end_time": "2021-09-09T00:35:10.428819Z",
     "start_time": "2021-09-09T00:33:19.006435Z"
    },
    "scrolled": true
   },
   "outputs": [
    {
     "name": "stderr",
     "output_type": "stream",
     "text": [
      "100%|██████████| 1347/1347 [01:46<00:00, 12.64it/s]\n",
      "100%|██████████| 299/299 [00:04<00:00, 62.05it/s]\n"
     ]
    }
   ],
   "source": [
    "'''\n",
    "for file in tqdm(pets):\n",
    "    filename = file[:-4]\n",
    "    cvTest(filename)\n",
    "'''\n",
    "    \n",
    "for file in tqdm(pps):\n",
    "    filename = file[:-4]\n",
    "    cvTest(filename)\n",
    "    \n",
    "for file in tqdm(pss):\n",
    "    filename = file[:-4]\n",
    "    cvTest(filename)"
   ]
  },
  {
   "cell_type": "code",
   "execution_count": null,
   "metadata": {},
   "outputs": [],
   "source": []
  }
 ],
 "metadata": {
  "kernelspec": {
   "display_name": "Python 3",
   "language": "python",
   "name": "python3"
  },
  "language_info": {
   "codemirror_mode": {
    "name": "ipython",
    "version": 3
   },
   "file_extension": ".py",
   "mimetype": "text/x-python",
   "name": "python",
   "nbconvert_exporter": "python",
   "pygments_lexer": "ipython3",
   "version": "3.6.9"
  },
  "toc": {
   "base_numbering": 1,
   "nav_menu": {},
   "number_sections": true,
   "sideBar": true,
   "skip_h1_title": false,
   "title_cell": "Table of Contents",
   "title_sidebar": "Contents",
   "toc_cell": false,
   "toc_position": {},
   "toc_section_display": true,
   "toc_window_display": false
  },
  "varInspector": {
   "cols": {
    "lenName": 16,
    "lenType": 16,
    "lenVar": 40
   },
   "kernels_config": {
    "python": {
     "delete_cmd_postfix": "",
     "delete_cmd_prefix": "del ",
     "library": "var_list.py",
     "varRefreshCmd": "print(var_dic_list())"
    },
    "r": {
     "delete_cmd_postfix": ") ",
     "delete_cmd_prefix": "rm(",
     "library": "var_list.r",
     "varRefreshCmd": "cat(var_dic_list()) "
    }
   },
   "types_to_exclude": [
    "module",
    "function",
    "builtin_function_or_method",
    "instance",
    "_Feature"
   ],
   "window_display": false
  }
 },
 "nbformat": 4,
 "nbformat_minor": 2
}
