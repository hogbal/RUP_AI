{
 "cells": [
  {
   "cell_type": "code",
   "execution_count": 1,
   "metadata": {
    "ExecuteTime": {
     "end_time": "2021-09-09T01:33:52.763764Z",
     "start_time": "2021-09-09T01:33:52.759834Z"
    }
   },
   "outputs": [],
   "source": [
    "import os\n",
    "from tqdm import tqdm\n",
    "from glob import glob\n",
    "import xml.etree.ElementTree as ET"
   ]
  },
  {
   "cell_type": "code",
   "execution_count": 2,
   "metadata": {
    "ExecuteTime": {
     "end_time": "2021-09-09T01:35:04.609769Z",
     "start_time": "2021-09-09T01:35:04.603383Z"
    }
   },
   "outputs": [],
   "source": [
    "def mod_xml(xml_path,material):\n",
    "    if(not os.path.isfile(xml_path)):\n",
    "        print(xml_path+' 파일이 없습니다.')\n",
    "        return\n",
    "    \n",
    "    xml_file = open(xml_path, 'rt', encoding='UTF8')\n",
    "\n",
    "    tree = ET.parse(xml_file)\n",
    "    root = tree.getroot()\n",
    "    \n",
    "    folder_tag = root.find(\"folder\")\n",
    "    modified_folder = material\n",
    "    folder_tag.text = modified_folder\n",
    "    \n",
    "    filename_tag = root.find(\"filename\")\n",
    "    modified_filename = os.path.basename(xml_path)[:-4]+'.jpg'\n",
    "    filename_tag.text = modified_filename\n",
    "    \n",
    "    path_tag = root.find(\"path\")\n",
    "    modified_path = '/home/hogbal/RUP/dataset/VOC/'+os.path.basename(xml_path)[:-4]+'.jpg'\n",
    "    path_tag.text = modified_path\n",
    "    \n",
    "    tree.write(xml_path)"
   ]
  },
  {
   "cell_type": "code",
   "execution_count": 5,
   "metadata": {
    "ExecuteTime": {
     "end_time": "2021-09-09T01:35:32.949909Z",
     "start_time": "2021-09-09T01:35:32.934844Z"
    }
   },
   "outputs": [],
   "source": [
    "pet_dir = '/tf/VOC/pet/'\n",
    "pp_dir = '/tf/VOC/pp/'\n",
    "ps_dir = '/tf/VOC/ps/'\n",
    "\n",
    "pets = glob(pet_dir+'*.xml')\n",
    "pps = glob(pp_dir+'*.xml')\n",
    "pss = glob(ps_dir+'*.xml')"
   ]
  },
  {
   "cell_type": "code",
   "execution_count": 6,
   "metadata": {
    "ExecuteTime": {
     "end_time": "2021-09-09T01:35:48.865764Z",
     "start_time": "2021-09-09T01:35:48.860934Z"
    }
   },
   "outputs": [
    {
     "data": {
      "text/plain": [
       "(['/tf/VOC/pet/pet245.xml',\n",
       "  '/tf/VOC/pet/pet773.xml',\n",
       "  '/tf/VOC/pet/pet169.xml',\n",
       "  '/tf/VOC/pet/pet1009.xml',\n",
       "  '/tf/VOC/pet/pet1074.xml'],\n",
       " ['/tf/VOC/pp/pp1338.xml',\n",
       "  '/tf/VOC/pp/pp2085.xml',\n",
       "  '/tf/VOC/pp/pp367.xml',\n",
       "  '/tf/VOC/pp/pp224.xml',\n",
       "  '/tf/VOC/pp/pp944.xml'],\n",
       " ['/tf/VOC/ps/ps89.xml',\n",
       "  '/tf/VOC/ps/ps1372.xml',\n",
       "  '/tf/VOC/ps/ps695.xml',\n",
       "  '/tf/VOC/ps/ps662.xml',\n",
       "  '/tf/VOC/ps/ps1133.xml'])"
      ]
     },
     "execution_count": 6,
     "metadata": {},
     "output_type": "execute_result"
    }
   ],
   "source": [
    "pets[:5], pps[:5], pss[:5]"
   ]
  },
  {
   "cell_type": "code",
   "execution_count": 7,
   "metadata": {
    "ExecuteTime": {
     "end_time": "2021-09-09T01:35:51.684440Z",
     "start_time": "2021-09-09T01:35:50.792267Z"
    }
   },
   "outputs": [
    {
     "name": "stderr",
     "output_type": "stream",
     "text": [
      "100%|██████████| 1126/1126 [00:00<00:00, 5070.69it/s]\n",
      "100%|██████████| 2122/2122 [00:00<00:00, 6101.43it/s]\n",
      "100%|██████████| 1273/1273 [00:00<00:00, 5962.89it/s]\n"
     ]
    }
   ],
   "source": [
    "for file in tqdm(pets):\n",
    "    mod_xml(file,'pet')\n",
    "    \n",
    "for file in tqdm(pps):\n",
    "    mod_xml(file,'pp')\n",
    "    \n",
    "for file in tqdm(pss):\n",
    "    mod_xml(file,'ps')"
   ]
  },
  {
   "cell_type": "code",
   "execution_count": null,
   "metadata": {},
   "outputs": [],
   "source": []
  }
 ],
 "metadata": {
  "kernelspec": {
   "display_name": "Python 3",
   "language": "python",
   "name": "python3"
  },
  "language_info": {
   "codemirror_mode": {
    "name": "ipython",
    "version": 3
   },
   "file_extension": ".py",
   "mimetype": "text/x-python",
   "name": "python",
   "nbconvert_exporter": "python",
   "pygments_lexer": "ipython3",
   "version": "3.8.10"
  },
  "toc": {
   "base_numbering": 1,
   "nav_menu": {},
   "number_sections": true,
   "sideBar": true,
   "skip_h1_title": false,
   "title_cell": "Table of Contents",
   "title_sidebar": "Contents",
   "toc_cell": false,
   "toc_position": {},
   "toc_section_display": true,
   "toc_window_display": false
  },
  "varInspector": {
   "cols": {
    "lenName": 16,
    "lenType": 16,
    "lenVar": 40
   },
   "kernels_config": {
    "python": {
     "delete_cmd_postfix": "",
     "delete_cmd_prefix": "del ",
     "library": "var_list.py",
     "varRefreshCmd": "print(var_dic_list())"
    },
    "r": {
     "delete_cmd_postfix": ") ",
     "delete_cmd_prefix": "rm(",
     "library": "var_list.r",
     "varRefreshCmd": "cat(var_dic_list()) "
    }
   },
   "types_to_exclude": [
    "module",
    "function",
    "builtin_function_or_method",
    "instance",
    "_Feature"
   ],
   "window_display": false
  }
 },
 "nbformat": 4,
 "nbformat_minor": 2
}
